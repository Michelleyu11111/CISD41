{
 "cells": [
  {
   "cell_type": "code",
   "execution_count": 1,
   "id": "4531235c-487e-4900-8594-54551d7c6b7d",
   "metadata": {},
   "outputs": [],
   "source": [
    "import pandas as pd\n",
    "import numpy as np\n",
    "import matplotlib.pyplot as plt\n",
    "import seaborn as sns\n",
    "df = pd.read_csv(\"data/sp500_companies.csv\")"
   ]
  },
  {
   "cell_type": "code",
   "execution_count": 2,
   "id": "0a354e8d-fefb-4ef0-ace5-7036aced6866",
   "metadata": {},
   "outputs": [
    {
     "data": {
      "text/html": [
       "<div>\n",
       "<style scoped>\n",
       "    .dataframe tbody tr th:only-of-type {\n",
       "        vertical-align: middle;\n",
       "    }\n",
       "\n",
       "    .dataframe tbody tr th {\n",
       "        vertical-align: top;\n",
       "    }\n",
       "\n",
       "    .dataframe thead th {\n",
       "        text-align: right;\n",
       "    }\n",
       "</style>\n",
       "<table border=\"1\" class=\"dataframe\">\n",
       "  <thead>\n",
       "    <tr style=\"text-align: right;\">\n",
       "      <th></th>\n",
       "      <th>Exchange</th>\n",
       "      <th>Symbol</th>\n",
       "      <th>Shortname</th>\n",
       "      <th>Longname</th>\n",
       "      <th>Sector</th>\n",
       "      <th>Industry</th>\n",
       "      <th>Currentprice</th>\n",
       "      <th>Marketcap</th>\n",
       "      <th>Ebitda</th>\n",
       "      <th>Revenuegrowth</th>\n",
       "      <th>City</th>\n",
       "      <th>State</th>\n",
       "      <th>Country</th>\n",
       "      <th>Fulltimeemployees</th>\n",
       "      <th>Longbusinesssummary</th>\n",
       "      <th>Weight</th>\n",
       "    </tr>\n",
       "  </thead>\n",
       "  <tbody>\n",
       "    <tr>\n",
       "      <th>0</th>\n",
       "      <td>NMS</td>\n",
       "      <td>AAPL</td>\n",
       "      <td>Apple Inc.</td>\n",
       "      <td>Apple Inc.</td>\n",
       "      <td>Technology</td>\n",
       "      <td>Consumer Electronics</td>\n",
       "      <td>254.49</td>\n",
       "      <td>3846819807232</td>\n",
       "      <td>1.346610e+11</td>\n",
       "      <td>0.061</td>\n",
       "      <td>Cupertino</td>\n",
       "      <td>CA</td>\n",
       "      <td>United States</td>\n",
       "      <td>164000.0</td>\n",
       "      <td>Apple Inc. designs, manufactures, and markets ...</td>\n",
       "      <td>0.069209</td>\n",
       "    </tr>\n",
       "    <tr>\n",
       "      <th>1</th>\n",
       "      <td>NMS</td>\n",
       "      <td>NVDA</td>\n",
       "      <td>NVIDIA Corporation</td>\n",
       "      <td>NVIDIA Corporation</td>\n",
       "      <td>Technology</td>\n",
       "      <td>Semiconductors</td>\n",
       "      <td>134.70</td>\n",
       "      <td>3298803056640</td>\n",
       "      <td>6.118400e+10</td>\n",
       "      <td>1.224</td>\n",
       "      <td>Santa Clara</td>\n",
       "      <td>CA</td>\n",
       "      <td>United States</td>\n",
       "      <td>29600.0</td>\n",
       "      <td>NVIDIA Corporation provides graphics and compu...</td>\n",
       "      <td>0.059350</td>\n",
       "    </tr>\n",
       "    <tr>\n",
       "      <th>2</th>\n",
       "      <td>NMS</td>\n",
       "      <td>MSFT</td>\n",
       "      <td>Microsoft Corporation</td>\n",
       "      <td>Microsoft Corporation</td>\n",
       "      <td>Technology</td>\n",
       "      <td>Software - Infrastructure</td>\n",
       "      <td>436.60</td>\n",
       "      <td>3246068596736</td>\n",
       "      <td>1.365520e+11</td>\n",
       "      <td>0.160</td>\n",
       "      <td>Redmond</td>\n",
       "      <td>WA</td>\n",
       "      <td>United States</td>\n",
       "      <td>228000.0</td>\n",
       "      <td>Microsoft Corporation develops and supports so...</td>\n",
       "      <td>0.058401</td>\n",
       "    </tr>\n",
       "    <tr>\n",
       "      <th>3</th>\n",
       "      <td>NMS</td>\n",
       "      <td>AMZN</td>\n",
       "      <td>Amazon.com, Inc.</td>\n",
       "      <td>Amazon.com, Inc.</td>\n",
       "      <td>Consumer Cyclical</td>\n",
       "      <td>Internet Retail</td>\n",
       "      <td>224.92</td>\n",
       "      <td>2365033807872</td>\n",
       "      <td>1.115830e+11</td>\n",
       "      <td>0.110</td>\n",
       "      <td>Seattle</td>\n",
       "      <td>WA</td>\n",
       "      <td>United States</td>\n",
       "      <td>1551000.0</td>\n",
       "      <td>Amazon.com, Inc. engages in the retail sale of...</td>\n",
       "      <td>0.042550</td>\n",
       "    </tr>\n",
       "    <tr>\n",
       "      <th>4</th>\n",
       "      <td>NMS</td>\n",
       "      <td>GOOGL</td>\n",
       "      <td>Alphabet Inc.</td>\n",
       "      <td>Alphabet Inc.</td>\n",
       "      <td>Communication Services</td>\n",
       "      <td>Internet Content &amp; Information</td>\n",
       "      <td>191.41</td>\n",
       "      <td>2351625142272</td>\n",
       "      <td>1.234700e+11</td>\n",
       "      <td>0.151</td>\n",
       "      <td>Mountain View</td>\n",
       "      <td>CA</td>\n",
       "      <td>United States</td>\n",
       "      <td>181269.0</td>\n",
       "      <td>Alphabet Inc. offers various products and plat...</td>\n",
       "      <td>0.042309</td>\n",
       "    </tr>\n",
       "  </tbody>\n",
       "</table>\n",
       "</div>"
      ],
      "text/plain": [
       "  Exchange Symbol              Shortname               Longname  \\\n",
       "0      NMS   AAPL             Apple Inc.             Apple Inc.   \n",
       "1      NMS   NVDA     NVIDIA Corporation     NVIDIA Corporation   \n",
       "2      NMS   MSFT  Microsoft Corporation  Microsoft Corporation   \n",
       "3      NMS   AMZN       Amazon.com, Inc.       Amazon.com, Inc.   \n",
       "4      NMS  GOOGL          Alphabet Inc.          Alphabet Inc.   \n",
       "\n",
       "                   Sector                        Industry  Currentprice  \\\n",
       "0              Technology            Consumer Electronics        254.49   \n",
       "1              Technology                  Semiconductors        134.70   \n",
       "2              Technology       Software - Infrastructure        436.60   \n",
       "3       Consumer Cyclical                 Internet Retail        224.92   \n",
       "4  Communication Services  Internet Content & Information        191.41   \n",
       "\n",
       "       Marketcap        Ebitda  Revenuegrowth           City State  \\\n",
       "0  3846819807232  1.346610e+11          0.061      Cupertino    CA   \n",
       "1  3298803056640  6.118400e+10          1.224    Santa Clara    CA   \n",
       "2  3246068596736  1.365520e+11          0.160        Redmond    WA   \n",
       "3  2365033807872  1.115830e+11          0.110        Seattle    WA   \n",
       "4  2351625142272  1.234700e+11          0.151  Mountain View    CA   \n",
       "\n",
       "         Country  Fulltimeemployees  \\\n",
       "0  United States           164000.0   \n",
       "1  United States            29600.0   \n",
       "2  United States           228000.0   \n",
       "3  United States          1551000.0   \n",
       "4  United States           181269.0   \n",
       "\n",
       "                                 Longbusinesssummary    Weight  \n",
       "0  Apple Inc. designs, manufactures, and markets ...  0.069209  \n",
       "1  NVIDIA Corporation provides graphics and compu...  0.059350  \n",
       "2  Microsoft Corporation develops and supports so...  0.058401  \n",
       "3  Amazon.com, Inc. engages in the retail sale of...  0.042550  \n",
       "4  Alphabet Inc. offers various products and plat...  0.042309  "
      ]
     },
     "execution_count": 2,
     "metadata": {},
     "output_type": "execute_result"
    }
   ],
   "source": [
    "df.head()"
   ]
  },
  {
   "cell_type": "code",
   "execution_count": 3,
   "id": "a3b3e268-0795-410d-9da4-dbcc50b885a9",
   "metadata": {},
   "outputs": [
    {
     "data": {
      "text/plain": [
       "Index(['Exchange', 'Symbol', 'Shortname', 'Longname', 'Sector', 'Industry',\n",
       "       'Currentprice', 'Marketcap', 'Ebitda', 'Revenuegrowth', 'City', 'State',\n",
       "       'Country', 'Fulltimeemployees', 'Longbusinesssummary', 'Weight'],\n",
       "      dtype='object')"
      ]
     },
     "execution_count": 3,
     "metadata": {},
     "output_type": "execute_result"
    }
   ],
   "source": [
    "df.columns"
   ]
  },
  {
   "cell_type": "code",
   "execution_count": 4,
   "id": "dc50c80f-16d8-4396-8dc7-f1c60c82bfac",
   "metadata": {},
   "outputs": [
    {
     "name": "stdout",
     "output_type": "stream",
     "text": [
      "<class 'pandas.core.frame.DataFrame'>\n",
      "RangeIndex: 502 entries, 0 to 501\n",
      "Data columns (total 16 columns):\n",
      " #   Column               Non-Null Count  Dtype  \n",
      "---  ------               --------------  -----  \n",
      " 0   Exchange             502 non-null    object \n",
      " 1   Symbol               502 non-null    object \n",
      " 2   Shortname            502 non-null    object \n",
      " 3   Longname             502 non-null    object \n",
      " 4   Sector               502 non-null    object \n",
      " 5   Industry             502 non-null    object \n",
      " 6   Currentprice         502 non-null    float64\n",
      " 7   Marketcap            502 non-null    int64  \n",
      " 8   Ebitda               473 non-null    float64\n",
      " 9   Revenuegrowth        499 non-null    float64\n",
      " 10  City                 502 non-null    object \n",
      " 11  State                482 non-null    object \n",
      " 12  Country              502 non-null    object \n",
      " 13  Fulltimeemployees    493 non-null    float64\n",
      " 14  Longbusinesssummary  502 non-null    object \n",
      " 15  Weight               502 non-null    float64\n",
      "dtypes: float64(5), int64(1), object(10)\n",
      "memory usage: 62.9+ KB\n"
     ]
    }
   ],
   "source": [
    "df.info()"
   ]
  },
  {
   "cell_type": "markdown",
   "id": "04e08629-684e-46bf-bf7f-c038a6d5d625",
   "metadata": {},
   "source": [
    "## research about the meaning of some columns\n",
    "What is the S&P 500?\n",
    "The S&P 500 is a list of 500 of the biggest U.S. companies that are publicly traded (like Apple, Microsoft, Amazon, etc.). It's used to represent how the overall U.S. stock market is doing.\n",
    "\n",
    "\n",
    "Exchange: stock exchange where the company’s shares are traded.Market Cap=Current Stock Price×Total Outstanding Shares\n",
    "It reflects the total value of a company’s equity in the stock market.\n",
    "\n",
    "Market Cap : is Current Stock Price×Total Outstanding Shares, it reflects the total value of a company’s equity in the stock market.\n",
    "\n",
    "EBITDA: Earnings Before Interest, Taxes, Depreciation, and Amortization, it's a measure of a company’s operating performance.\n",
    "        EBITDA=Net Income+Interest+Taxes+Depreciation+Amortization\n",
    "\n",
    "Revenue Growth\n",
    "The rate at which a company’s sales (revenue) are increasing (or decreasing) over time.\n",
    "\n",
    "Revenue Growth (%) = ((Current Revenue − Previous Revenue)/Previous Revenue)×100%\n",
    "\n",
    "Positive value = growing sales\n",
    "Negative = declining sales\n",
    "\n",
    "Weight: Each company's weight in the index is proportional to its market capitalization.\n",
    "\n",
    "Sector: the \"Sector\" refers to a broad category that represents the primary business activities of the company or the group of industries in which it operates.\n",
    "\n",
    "Questions:\n",
    "\n",
    "1. How many different exchanges these stocks are from?\n",
    "2. How many stocks does each exchange have?\n",
    "3. Is there any relationship between exchanges and industries?"
   ]
  },
  {
   "cell_type": "code",
   "execution_count": 6,
   "id": "40ed7e51-3214-4d8d-afb9-b8f2ff17a3d8",
   "metadata": {},
   "outputs": [
    {
     "data": {
      "text/plain": [
       "array(['NMS', 'NYQ', 'BTS', 'NGM'], dtype=object)"
      ]
     },
     "execution_count": 6,
     "metadata": {},
     "output_type": "execute_result"
    }
   ],
   "source": [
    "df['Exchange'].unique()"
   ]
  },
  {
   "cell_type": "code",
   "execution_count": 7,
   "id": "94320802-4586-47a6-a9ef-e9a12b8360fe",
   "metadata": {},
   "outputs": [
    {
     "data": {
      "text/plain": [
       "Exchange\n",
       "NYQ    348\n",
       "NMS    152\n",
       "BTS      1\n",
       "NGM      1\n",
       "Name: count, dtype: int64"
      ]
     },
     "execution_count": 7,
     "metadata": {},
     "output_type": "execute_result"
    }
   ],
   "source": [
    "exchange_counts = df['Exchange'].value_counts()\n",
    "exchange_counts"
   ]
  },
  {
   "cell_type": "code",
   "execution_count": null,
   "id": "a1d48318-afe2-42e9-b310-f7f4520d9db9",
   "metadata": {},
   "outputs": [],
   "source": []
  },
  {
   "cell_type": "code",
   "execution_count": 8,
   "id": "f44c1e7a-8363-4353-a07b-f464c0ee4b7e",
   "metadata": {},
   "outputs": [
    {
     "data": {
      "image/png": "[encoded data removed]",
      "text/plain": [
       "<Figure size 800x500 with 1 Axes>"
      ]
     },
     "metadata": {},
     "output_type": "display_data"
    }
   ],
   "source": [
    "exchange_counts = df['Exchange'].value_counts()\n",
    "\n",
    "fig = plt.figure(figsize=(8, 5))\n",
    "ax = fig.add_axes((0,0, 1,1))\n",
    "ax.bar(exchange_counts.index, exchange_counts.values)\n",
    "\n",
    "\n",
    "ax.set_title('Number of Stocks per Exchange')\n",
    "ax.set_xlabel('Exchange')\n",
    "ax.set_ylabel('Count')\n",
    "ax.tick_params(axis='x', rotation=45)\n",
    "plt.show()"
   ]
  },
  {
   "cell_type": "code",
   "execution_count": 9,
   "id": "0131db16-75e4-453d-8324-e949ed0f80f1",
   "metadata": {},
   "outputs": [
    {
     "data": {
      "image/png": "[encoded data removed]",
      "text/plain": [
       "<Figure size 600x600 with 1 Axes>"
      ]
     },
     "metadata": {},
     "output_type": "display_data"
    }
   ],
   "source": [
    "exchange_counts = df['Exchange'].value_counts()\n",
    "labels_legend = [f\"{exchange} ({count / len(df):.1%})\" for exchange, count in exchange_counts.items()]\n",
    "\n",
    "fig, ax = plt.subplots(figsize=(6, 6))\n",
    "ax.pie(exchange_counts.values)\n",
    "ax.legend(labels_legend, loc='upper right')\n",
    "ax.set_title('Stock Distribution by Exchange')\n",
    "\n",
    "plt.show()"
   ]
  },
  {
   "cell_type": "code",
   "execution_count": 10,
   "id": "2e6bbdc6-9318-43d3-bf46-3ca0090bb0f5",
   "metadata": {},
   "outputs": [
    {
     "data": {
      "text/plain": [
       "array(['United States', 'Ireland', 'United Kingdom', 'Switzerland',\n",
       "       'Netherlands', 'Canada', 'Bermuda', 'Singapore'], dtype=object)"
      ]
     },
     "execution_count": 10,
     "metadata": {},
     "output_type": "execute_result"
    }
   ],
   "source": [
    "df['Country'].unique()"
   ]
  },
  {
   "cell_type": "code",
   "execution_count": 11,
   "id": "e116b925-91b4-4702-983c-e42035a3f839",
   "metadata": {},
   "outputs": [
    {
     "data": {
      "text/html": [
       "<div>\n",
       "<style scoped>\n",
       "    .dataframe tbody tr th:only-of-type {\n",
       "        vertical-align: middle;\n",
       "    }\n",
       "\n",
       "    .dataframe tbody tr th {\n",
       "        vertical-align: top;\n",
       "    }\n",
       "\n",
       "    .dataframe thead th {\n",
       "        text-align: right;\n",
       "    }\n",
       "</style>\n",
       "<table border=\"1\" class=\"dataframe\">\n",
       "  <thead>\n",
       "    <tr style=\"text-align: right;\">\n",
       "      <th></th>\n",
       "      <th></th>\n",
       "      <th>Symbol</th>\n",
       "      <th>Shortname</th>\n",
       "      <th>Longname</th>\n",
       "      <th>Sector</th>\n",
       "      <th>Currentprice</th>\n",
       "      <th>Marketcap</th>\n",
       "      <th>Ebitda</th>\n",
       "      <th>Revenuegrowth</th>\n",
       "      <th>City</th>\n",
       "      <th>State</th>\n",
       "      <th>Country</th>\n",
       "      <th>Fulltimeemployees</th>\n",
       "      <th>Longbusinesssummary</th>\n",
       "      <th>Weight</th>\n",
       "    </tr>\n",
       "    <tr>\n",
       "      <th>Exchange</th>\n",
       "      <th>Industry</th>\n",
       "      <th></th>\n",
       "      <th></th>\n",
       "      <th></th>\n",
       "      <th></th>\n",
       "      <th></th>\n",
       "      <th></th>\n",
       "      <th></th>\n",
       "      <th></th>\n",
       "      <th></th>\n",
       "      <th></th>\n",
       "      <th></th>\n",
       "      <th></th>\n",
       "      <th></th>\n",
       "      <th></th>\n",
       "    </tr>\n",
       "  </thead>\n",
       "  <tbody>\n",
       "    <tr>\n",
       "      <th rowspan=\"7\" valign=\"top\">NMS</th>\n",
       "      <th>Consumer Electronics</th>\n",
       "      <td>AAPL</td>\n",
       "      <td>Apple Inc.</td>\n",
       "      <td>Apple Inc.</td>\n",
       "      <td>Technology</td>\n",
       "      <td>254.49</td>\n",
       "      <td>3846819807232</td>\n",
       "      <td>1.346610e+11</td>\n",
       "      <td>0.061</td>\n",
       "      <td>Cupertino</td>\n",
       "      <td>CA</td>\n",
       "      <td>United States</td>\n",
       "      <td>164000.0</td>\n",
       "      <td>Apple Inc. designs, manufactures, and markets ...</td>\n",
       "      <td>0.069209</td>\n",
       "    </tr>\n",
       "    <tr>\n",
       "      <th>Semiconductors</th>\n",
       "      <td>NVDA</td>\n",
       "      <td>NVIDIA Corporation</td>\n",
       "      <td>NVIDIA Corporation</td>\n",
       "      <td>Technology</td>\n",
       "      <td>134.70</td>\n",
       "      <td>3298803056640</td>\n",
       "      <td>6.118400e+10</td>\n",
       "      <td>1.224</td>\n",
       "      <td>Santa Clara</td>\n",
       "      <td>CA</td>\n",
       "      <td>United States</td>\n",
       "      <td>29600.0</td>\n",
       "      <td>NVIDIA Corporation provides graphics and compu...</td>\n",
       "      <td>0.059350</td>\n",
       "    </tr>\n",
       "    <tr>\n",
       "      <th>Software - Infrastructure</th>\n",
       "      <td>MSFT</td>\n",
       "      <td>Microsoft Corporation</td>\n",
       "      <td>Microsoft Corporation</td>\n",
       "      <td>Technology</td>\n",
       "      <td>436.60</td>\n",
       "      <td>3246068596736</td>\n",
       "      <td>1.365520e+11</td>\n",
       "      <td>0.160</td>\n",
       "      <td>Redmond</td>\n",
       "      <td>WA</td>\n",
       "      <td>United States</td>\n",
       "      <td>228000.0</td>\n",
       "      <td>Microsoft Corporation develops and supports so...</td>\n",
       "      <td>0.058401</td>\n",
       "    </tr>\n",
       "    <tr>\n",
       "      <th>Internet Retail</th>\n",
       "      <td>AMZN</td>\n",
       "      <td>Amazon.com, Inc.</td>\n",
       "      <td>Amazon.com, Inc.</td>\n",
       "      <td>Consumer Cyclical</td>\n",
       "      <td>224.92</td>\n",
       "      <td>2365033807872</td>\n",
       "      <td>1.115830e+11</td>\n",
       "      <td>0.110</td>\n",
       "      <td>Seattle</td>\n",
       "      <td>WA</td>\n",
       "      <td>United States</td>\n",
       "      <td>1551000.0</td>\n",
       "      <td>Amazon.com, Inc. engages in the retail sale of...</td>\n",
       "      <td>0.042550</td>\n",
       "    </tr>\n",
       "    <tr>\n",
       "      <th>Internet Content &amp; Information</th>\n",
       "      <td>GOOGL</td>\n",
       "      <td>Alphabet Inc.</td>\n",
       "      <td>Alphabet Inc.</td>\n",
       "      <td>Communication Services</td>\n",
       "      <td>191.41</td>\n",
       "      <td>2351625142272</td>\n",
       "      <td>1.234700e+11</td>\n",
       "      <td>0.151</td>\n",
       "      <td>Mountain View</td>\n",
       "      <td>CA</td>\n",
       "      <td>United States</td>\n",
       "      <td>181269.0</td>\n",
       "      <td>Alphabet Inc. offers various products and plat...</td>\n",
       "      <td>0.042309</td>\n",
       "    </tr>\n",
       "    <tr>\n",
       "      <th>...</th>\n",
       "      <td>...</td>\n",
       "      <td>...</td>\n",
       "      <td>...</td>\n",
       "      <td>...</td>\n",
       "      <td>...</td>\n",
       "      <td>...</td>\n",
       "      <td>...</td>\n",
       "      <td>...</td>\n",
       "      <td>...</td>\n",
       "      <td>...</td>\n",
       "      <td>...</td>\n",
       "      <td>...</td>\n",
       "      <td>...</td>\n",
       "      <td>...</td>\n",
       "    </tr>\n",
       "    <tr>\n",
       "      <th>Resorts &amp; Casinos</th>\n",
       "      <td>CZR</td>\n",
       "      <td>Caesars Entertainment, Inc.</td>\n",
       "      <td>Caesars Entertainment, Inc.</td>\n",
       "      <td>Consumer Cyclical</td>\n",
       "      <td>32.82</td>\n",
       "      <td>6973593600</td>\n",
       "      <td>3.668000e+09</td>\n",
       "      <td>-0.040</td>\n",
       "      <td>Reno</td>\n",
       "      <td>NV</td>\n",
       "      <td>United States</td>\n",
       "      <td>51000.0</td>\n",
       "      <td>Caesars Entertainment, Inc. operates as a gami...</td>\n",
       "      <td>0.000125</td>\n",
       "    </tr>\n",
       "    <tr>\n",
       "      <th>NYQ</th>\n",
       "      <th>Auto Parts</th>\n",
       "      <td>BWA</td>\n",
       "      <td>BorgWarner Inc.</td>\n",
       "      <td>BorgWarner Inc.</td>\n",
       "      <td>Consumer Cyclical</td>\n",
       "      <td>31.88</td>\n",
       "      <td>6972155904</td>\n",
       "      <td>1.882000e+09</td>\n",
       "      <td>-0.048</td>\n",
       "      <td>Auburn Hills</td>\n",
       "      <td>MI</td>\n",
       "      <td>United States</td>\n",
       "      <td>39900.0</td>\n",
       "      <td>BorgWarner Inc., together with its subsidiarie...</td>\n",
       "      <td>0.000125</td>\n",
       "    </tr>\n",
       "    <tr>\n",
       "      <th>NMS</th>\n",
       "      <th>Semiconductors</th>\n",
       "      <td>QRVO</td>\n",
       "      <td>Qorvo, Inc.</td>\n",
       "      <td>Qorvo, Inc.</td>\n",
       "      <td>Technology</td>\n",
       "      <td>70.85</td>\n",
       "      <td>6697217024</td>\n",
       "      <td>6.731300e+08</td>\n",
       "      <td>-0.052</td>\n",
       "      <td>Greensboro</td>\n",
       "      <td>NC</td>\n",
       "      <td>United States</td>\n",
       "      <td>8700.0</td>\n",
       "      <td>Qorvo, Inc. engages in development and commerc...</td>\n",
       "      <td>0.000120</td>\n",
       "    </tr>\n",
       "    <tr>\n",
       "      <th rowspan=\"2\" valign=\"top\">NYQ</th>\n",
       "      <th>Agricultural Inputs</th>\n",
       "      <td>FMC</td>\n",
       "      <td>FMC Corporation</td>\n",
       "      <td>FMC Corporation</td>\n",
       "      <td>Basic Materials</td>\n",
       "      <td>50.15</td>\n",
       "      <td>6260525568</td>\n",
       "      <td>7.033000e+08</td>\n",
       "      <td>0.085</td>\n",
       "      <td>Philadelphia</td>\n",
       "      <td>PA</td>\n",
       "      <td>United States</td>\n",
       "      <td>5800.0</td>\n",
       "      <td>FMC Corporation, an agricultural sciences comp...</td>\n",
       "      <td>0.000113</td>\n",
       "    </tr>\n",
       "    <tr>\n",
       "      <th>Specialty Business Services</th>\n",
       "      <td>AMTM</td>\n",
       "      <td>Amentum Holdings, Inc.</td>\n",
       "      <td>Amentum Holdings, Inc.</td>\n",
       "      <td>Industrials</td>\n",
       "      <td>19.17</td>\n",
       "      <td>4664099328</td>\n",
       "      <td>4.330000e+08</td>\n",
       "      <td>-0.031</td>\n",
       "      <td>Chantilly</td>\n",
       "      <td>VA</td>\n",
       "      <td>United States</td>\n",
       "      <td>NaN</td>\n",
       "      <td>Amentum Holdings, Inc. provides engineering an...</td>\n",
       "      <td>0.000084</td>\n",
       "    </tr>\n",
       "  </tbody>\n",
       "</table>\n",
       "<p>502 rows × 14 columns</p>\n",
       "</div>"
      ],
      "text/plain": [
       "                                        Symbol                    Shortname  \\\n",
       "Exchange Industry                                                             \n",
       "NMS      Consumer Electronics             AAPL                   Apple Inc.   \n",
       "         Semiconductors                   NVDA           NVIDIA Corporation   \n",
       "         Software - Infrastructure        MSFT        Microsoft Corporation   \n",
       "         Internet Retail                  AMZN             Amazon.com, Inc.   \n",
       "         Internet Content & Information  GOOGL                Alphabet Inc.   \n",
       "...                                        ...                          ...   \n",
       "         Resorts & Casinos                 CZR  Caesars Entertainment, Inc.   \n",
       "NYQ      Auto Parts                        BWA              BorgWarner Inc.   \n",
       "NMS      Semiconductors                   QRVO                  Qorvo, Inc.   \n",
       "NYQ      Agricultural Inputs               FMC              FMC Corporation   \n",
       "         Specialty Business Services      AMTM       Amentum Holdings, Inc.   \n",
       "\n",
       "                                                            Longname  \\\n",
       "Exchange Industry                                                      \n",
       "NMS      Consumer Electronics                             Apple Inc.   \n",
       "         Semiconductors                           NVIDIA Corporation   \n",
       "         Software - Infrastructure             Microsoft Corporation   \n",
       "         Internet Retail                            Amazon.com, Inc.   \n",
       "         Internet Content & Information                Alphabet Inc.   \n",
       "...                                                              ...   \n",
       "         Resorts & Casinos               Caesars Entertainment, Inc.   \n",
       "NYQ      Auto Parts                                  BorgWarner Inc.   \n",
       "NMS      Semiconductors                                  Qorvo, Inc.   \n",
       "NYQ      Agricultural Inputs                         FMC Corporation   \n",
       "         Specialty Business Services          Amentum Holdings, Inc.   \n",
       "\n",
       "                                                         Sector  Currentprice  \\\n",
       "Exchange Industry                                                               \n",
       "NMS      Consumer Electronics                        Technology        254.49   \n",
       "         Semiconductors                              Technology        134.70   \n",
       "         Software - Infrastructure                   Technology        436.60   \n",
       "         Internet Retail                      Consumer Cyclical        224.92   \n",
       "         Internet Content & Information  Communication Services        191.41   \n",
       "...                                                         ...           ...   \n",
       "         Resorts & Casinos                    Consumer Cyclical         32.82   \n",
       "NYQ      Auto Parts                           Consumer Cyclical         31.88   \n",
       "NMS      Semiconductors                              Technology         70.85   \n",
       "NYQ      Agricultural Inputs                    Basic Materials         50.15   \n",
       "         Specialty Business Services                Industrials         19.17   \n",
       "\n",
       "                                             Marketcap        Ebitda  \\\n",
       "Exchange Industry                                                      \n",
       "NMS      Consumer Electronics            3846819807232  1.346610e+11   \n",
       "         Semiconductors                  3298803056640  6.118400e+10   \n",
       "         Software - Infrastructure       3246068596736  1.365520e+11   \n",
       "         Internet Retail                 2365033807872  1.115830e+11   \n",
       "         Internet Content & Information  2351625142272  1.234700e+11   \n",
       "...                                                ...           ...   \n",
       "         Resorts & Casinos                  6973593600  3.668000e+09   \n",
       "NYQ      Auto Parts                         6972155904  1.882000e+09   \n",
       "NMS      Semiconductors                     6697217024  6.731300e+08   \n",
       "NYQ      Agricultural Inputs                6260525568  7.033000e+08   \n",
       "         Specialty Business Services        4664099328  4.330000e+08   \n",
       "\n",
       "                                         Revenuegrowth           City State  \\\n",
       "Exchange Industry                                                             \n",
       "NMS      Consumer Electronics                    0.061      Cupertino    CA   \n",
       "         Semiconductors                          1.224    Santa Clara    CA   \n",
       "         Software - Infrastructure               0.160        Redmond    WA   \n",
       "         Internet Retail                         0.110        Seattle    WA   \n",
       "         Internet Content & Information          0.151  Mountain View    CA   \n",
       "...                                                ...            ...   ...   \n",
       "         Resorts & Casinos                      -0.040           Reno    NV   \n",
       "NYQ      Auto Parts                             -0.048   Auburn Hills    MI   \n",
       "NMS      Semiconductors                         -0.052     Greensboro    NC   \n",
       "NYQ      Agricultural Inputs                     0.085   Philadelphia    PA   \n",
       "         Specialty Business Services            -0.031      Chantilly    VA   \n",
       "\n",
       "                                               Country  Fulltimeemployees  \\\n",
       "Exchange Industry                                                           \n",
       "NMS      Consumer Electronics            United States           164000.0   \n",
       "         Semiconductors                  United States            29600.0   \n",
       "         Software - Infrastructure       United States           228000.0   \n",
       "         Internet Retail                 United States          1551000.0   \n",
       "         Internet Content & Information  United States           181269.0   \n",
       "...                                                ...                ...   \n",
       "         Resorts & Casinos               United States            51000.0   \n",
       "NYQ      Auto Parts                      United States            39900.0   \n",
       "NMS      Semiconductors                  United States             8700.0   \n",
       "NYQ      Agricultural Inputs             United States             5800.0   \n",
       "         Specialty Business Services     United States                NaN   \n",
       "\n",
       "                                                                       Longbusinesssummary  \\\n",
       "Exchange Industry                                                                            \n",
       "NMS      Consumer Electronics            Apple Inc. designs, manufactures, and markets ...   \n",
       "         Semiconductors                  NVIDIA Corporation provides graphics and compu...   \n",
       "         Software - Infrastructure       Microsoft Corporation develops and supports so...   \n",
       "         Internet Retail                 Amazon.com, Inc. engages in the retail sale of...   \n",
       "         Internet Content & Information  Alphabet Inc. offers various products and plat...   \n",
       "...                                                                                    ...   \n",
       "         Resorts & Casinos               Caesars Entertainment, Inc. operates as a gami...   \n",
       "NYQ      Auto Parts                      BorgWarner Inc., together with its subsidiarie...   \n",
       "NMS      Semiconductors                  Qorvo, Inc. engages in development and commerc...   \n",
       "NYQ      Agricultural Inputs             FMC Corporation, an agricultural sciences comp...   \n",
       "         Specialty Business Services     Amentum Holdings, Inc. provides engineering an...   \n",
       "\n",
       "                                           Weight  \n",
       "Exchange Industry                                  \n",
       "NMS      Consumer Electronics            0.069209  \n",
       "         Semiconductors                  0.059350  \n",
       "         Software - Infrastructure       0.058401  \n",
       "         Internet Retail                 0.042550  \n",
       "         Internet Content & Information  0.042309  \n",
       "...                                           ...  \n",
       "         Resorts & Casinos               0.000125  \n",
       "NYQ      Auto Parts                      0.000125  \n",
       "NMS      Semiconductors                  0.000120  \n",
       "NYQ      Agricultural Inputs             0.000113  \n",
       "         Specialty Business Services     0.000084  \n",
       "\n",
       "[502 rows x 14 columns]"
      ]
     },
     "execution_count": 11,
     "metadata": {},
     "output_type": "execute_result"
    }
   ],
   "source": [
    "#3. Is there any relationship between exchanges and industries?\n",
    "#df1 = df.groupby(['Exchange','Industry'])\n",
    "#print(df1.head())\n",
    "\n",
    "#industry_counts = df['Industry'].value_counts()\n",
    "#labels_legend = [f\"{exchange} ({count / len(df):.1%})\" for exchange, count in exchange_counts.items()]\n",
    "\n",
    "#fig, ax = plt.subplots(figsize=(6, 6))\n",
    "#ax.pie(industry_counts.values)\n",
    "#ax.legend(labels_legend, loc='upper right')\n",
    "#ax.set_title('Stock Distribution by Exchange')\n",
    "df1 = df.set_index(['Exchange', 'Industry'])\n",
    "df1"
   ]
  },
  {
   "cell_type": "code",
   "execution_count": 12,
   "id": "d085d538-207c-4732-af32-95b05d1d5a28",
   "metadata": {},
   "outputs": [
    {
     "name": "stdout",
     "output_type": "stream",
     "text": [
      "Index(['Consumer Electronics', 'Semiconductors', 'Software - Infrastructure',\n",
      "       'Internet Retail', 'Internet Content & Information',\n",
      "       'Auto Manufacturers', 'Discount Stores', 'Entertainment',\n",
      "       'Telecom Services', 'Communication Equipment',\n",
      "       'Beverages - Non-Alcoholic', 'Specialty Chemicals',\n",
      "       'Medical Instruments & Supplies', 'Software - Application',\n",
      "       'Travel Services', 'Conglomerates', 'Drug Manufacturers - General',\n",
      "       'Semiconductor Equipment & Materials', 'Biotechnology', 'Restaurants',\n",
      "       'REIT - Specialty', 'Credit Services',\n",
      "       'Financial Data & Stock Exchanges', 'Confectioners', 'Lodging',\n",
      "       'Specialty Business Services', 'Utilities - Renewable',\n",
      "       'Specialty Retail', 'Railroads', 'Farm & Heavy Construction Machinery',\n",
      "       'Utilities - Regulated Electric', 'Apparel Retail',\n",
      "       'Aerospace & Defense', 'Oil & Gas E&P', 'Industrial Distribution',\n",
      "       'Oil & Gas Equipment & Services', 'Information Technology Services',\n",
      "       'Consulting Services', 'Electronic Gaming & Multimedia', 'Trucking',\n",
      "       'Packaged Foods', 'Health Information Services',\n",
      "       'Insurance - Diversified', 'Diagnostics & Research', 'Airlines',\n",
      "       'Insurance Brokers', 'Medical Devices', 'Real Estate Services',\n",
      "       'Banks - Regional', 'Asset Management', 'Computer Hardware',\n",
      "       'Insurance - Property & Casualty', 'Solar', 'Steel',\n",
      "       'Scientific & Technical Instruments', 'Integrated Freight & Logistics',\n",
      "       'Drug Manufacturers - Specialty & Generic', 'REIT - Retail',\n",
      "       'REIT - Hotel & Motel', 'Specialty Industrial Machinery',\n",
      "       'Resorts & Casinos', 'Auto Parts', 'Medical Distribution',\n",
      "       'Capital Markets', 'Pharmaceutical Retailers', 'Leisure'],\n",
      "      dtype='object', name='Industry')\n"
     ]
    }
   ],
   "source": [
    "industries_nms = df1.loc['NMS'].index.unique()\n",
    "print(industries_nms)"
   ]
  },
  {
   "cell_type": "code",
   "execution_count": 13,
   "id": "0ea0d87f-cdf1-4b82-8f98-7b366399fa6e",
   "metadata": {},
   "outputs": [
    {
     "name": "stdout",
     "output_type": "stream",
     "text": [
      "Index(['Insurance - Diversified', 'Discount Stores',\n",
      "       'Drug Manufacturers - General', 'Banks - Diversified',\n",
      "       'Credit Services', 'Software - Infrastructure', 'Oil & Gas Integrated',\n",
      "       'Healthcare Plans', 'Household & Personal Products',\n",
      "       'Home Improvement Retail',\n",
      "       ...\n",
      "       'Advertising Agencies', 'REIT - Office', 'Auto Parts',\n",
      "       'Insurance - Reinsurance', 'Luxury Goods', 'Apparel Manufacturing',\n",
      "       'Auto & Truck Dealerships', 'Health Information Services',\n",
      "       'Security & Protection Services', 'Furnishings, Fixtures & Appliances'],\n",
      "      dtype='object', name='Industry', length=102)\n"
     ]
    }
   ],
   "source": [
    "industries_nms = df1.loc['NYQ'].index.unique()\n",
    "print(industries_nms)"
   ]
  },
  {
   "cell_type": "code",
   "execution_count": 14,
   "id": "2e6afcab-64fa-4f86-ad2f-ecd63539dc15",
   "metadata": {},
   "outputs": [
    {
     "data": {
      "text/plain": [
       "Industry\n",
       "Utilities - Regulated Electric        23\n",
       "Specialty Industrial Machinery        16\n",
       "Software - Application                15\n",
       "Software - Infrastructure             14\n",
       "Semiconductors                        14\n",
       "                                      ..\n",
       "Gold                                   1\n",
       "Grocery Stores                         1\n",
       "Rental & Leasing Services              1\n",
       "Copper                                 1\n",
       "Furnishings, Fixtures & Appliances     1\n",
       "Name: count, Length: 114, dtype: int64"
      ]
     },
     "execution_count": 14,
     "metadata": {},
     "output_type": "execute_result"
    }
   ],
   "source": [
    "#How many unique industries are there, and which are the top five most common ones?\n",
    "df['Industry'].value_counts()"
   ]
  },
  {
   "cell_type": "code",
   "execution_count": 15,
   "id": "c9c26be7-3f91-47e5-8c32-32e455246168",
   "metadata": {},
   "outputs": [
    {
     "data": {
      "text/plain": [
       "114"
      ]
     },
     "execution_count": 15,
     "metadata": {},
     "output_type": "execute_result"
    }
   ],
   "source": [
    "len_unique = len(df['Industry'].unique())\n",
    "len_unique"
   ]
  },
  {
   "cell_type": "code",
   "execution_count": 16,
   "id": "8f92b72d-d6a5-416a-ad97-f2c8248ad14a",
   "metadata": {},
   "outputs": [
    {
     "name": "stdout",
     "output_type": "stream",
     "text": [
      "There are 114 unique industries.\n",
      "Top 5 industries by number of stocks:\n",
      "Industry\n",
      "Utilities - Regulated Electric     23\n",
      "Specialty Industrial Machinery     16\n",
      "Software - Application             15\n",
      "Software - Infrastructure          14\n",
      "Semiconductors                     14\n",
      "Aerospace & Defense                12\n",
      "Diagnostics & Research             11\n",
      "Asset Management                   11\n",
      "Information Technology Services    11\n",
      "Oil & Gas E&P                      10\n",
      "Name: count, dtype: int64\n"
     ]
    }
   ],
   "source": [
    "num_industries = df['Industry'].nunique()\n",
    "print(f\"There are {num_industries} unique industries.\")\n",
    "\n",
    "# Top 5 most common industries\n",
    "top5_industries = df['Industry'].value_counts().head(10)\n",
    "print(\"Top 5 industries by number of stocks:\")\n",
    "print(top5_industries)"
   ]
  },
  {
   "cell_type": "code",
   "execution_count": 17,
   "id": "86a0c106-5ea1-4b66-94fd-b0672d776734",
   "metadata": {},
   "outputs": [
    {
     "name": "stdout",
     "output_type": "stream",
     "text": [
      "Object `exchanges` not found.\n"
     ]
    },
    {
     "data": {
      "image/png": "[encoded data removed]",
      "text/plain": [
       "<Figure size 1200x600 with 1 Axes>"
      ]
     },
     "metadata": {},
     "output_type": "display_data"
    }
   ],
   "source": [
    "In the top 10 industries, how are the stocks distributed across different exchanges?\n",
    "# Step 1: Get the top 10 industries by count\n",
    "top10_industries = df['Industry'].value_counts().head(10).index\n",
    "\n",
    "# Step 2: Filter the original DataFrame to only those industries\n",
    "df_top10 = df[df['Industry'].isin(top10_industries)]\n",
    "\n",
    "# Step 3: Plot\n",
    "plt.figure(figsize=(12, 6))\n",
    "sns.countplot(data=df_top10, x='Industry', hue='Exchange')\n",
    "plt.title('Top 10 Industries by Stock Count, Colored by Exchange')\n",
    "plt.xticks(rotation=45)\n",
    "plt.tight_layout()\n",
    "plt.show()"
   ]
  },
  {
   "cell_type": "code",
   "execution_count": 104,
   "id": "5c2d9113-5698-465f-b797-6e9cbe4ecd48",
   "metadata": {},
   "outputs": [
    {
     "data": {
      "text/html": [
       "<div>\n",
       "<style scoped>\n",
       "    .dataframe tbody tr th:only-of-type {\n",
       "        vertical-align: middle;\n",
       "    }\n",
       "\n",
       "    .dataframe tbody tr th {\n",
       "        vertical-align: top;\n",
       "    }\n",
       "\n",
       "    .dataframe thead th {\n",
       "        text-align: right;\n",
       "    }\n",
       "</style>\n",
       "<table border=\"1\" class=\"dataframe\">\n",
       "  <thead>\n",
       "    <tr style=\"text-align: right;\">\n",
       "      <th></th>\n",
       "      <th>Exchange</th>\n",
       "      <th>Symbol</th>\n",
       "      <th>Shortname</th>\n",
       "      <th>Longname</th>\n",
       "      <th>Sector</th>\n",
       "      <th>Industry</th>\n",
       "      <th>Currentprice</th>\n",
       "      <th>Marketcap</th>\n",
       "      <th>Ebitda</th>\n",
       "      <th>Revenuegrowth</th>\n",
       "      <th>City</th>\n",
       "      <th>State</th>\n",
       "      <th>Country</th>\n",
       "      <th>Fulltimeemployees</th>\n",
       "      <th>Longbusinesssummary</th>\n",
       "      <th>Weight</th>\n",
       "      <th>PE_ratio_est</th>\n",
       "    </tr>\n",
       "  </thead>\n",
       "  <tbody>\n",
       "    <tr>\n",
       "      <th>491</th>\n",
       "      <td>NMS</td>\n",
       "      <td>APA</td>\n",
       "      <td>APA Corporation</td>\n",
       "      <td>APA Corporation</td>\n",
       "      <td>Energy</td>\n",
       "      <td>Oil &amp; Gas E&amp;P</td>\n",
       "      <td>21.04</td>\n",
       "      <td>7783685632</td>\n",
       "      <td>5.0470</td>\n",
       "      <td>0.104</td>\n",
       "      <td>Houston</td>\n",
       "      <td>TX</td>\n",
       "      <td>United States</td>\n",
       "      <td>2271.0</td>\n",
       "      <td>APA Corporation, an independent energy company...</td>\n",
       "      <td>0.000140</td>\n",
       "      <td>1.542240e+09</td>\n",
       "    </tr>\n",
       "    <tr>\n",
       "      <th>497</th>\n",
       "      <td>NMS</td>\n",
       "      <td>CZR</td>\n",
       "      <td>Caesars Entertainment, Inc.</td>\n",
       "      <td>Caesars Entertainment, Inc.</td>\n",
       "      <td>Consumer Cyclical</td>\n",
       "      <td>Resorts &amp; Casinos</td>\n",
       "      <td>32.82</td>\n",
       "      <td>6973593600</td>\n",
       "      <td>3.6680</td>\n",
       "      <td>-0.040</td>\n",
       "      <td>Reno</td>\n",
       "      <td>NV</td>\n",
       "      <td>United States</td>\n",
       "      <td>51000.0</td>\n",
       "      <td>Caesars Entertainment, Inc. operates as a gami...</td>\n",
       "      <td>0.000125</td>\n",
       "      <td>1.901198e+09</td>\n",
       "    </tr>\n",
       "    <tr>\n",
       "      <th>190</th>\n",
       "      <td>NMS</td>\n",
       "      <td>CHTR</td>\n",
       "      <td>Charter Communications, Inc.</td>\n",
       "      <td>Charter Communications, Inc.</td>\n",
       "      <td>Communication Services</td>\n",
       "      <td>Telecom Services</td>\n",
       "      <td>351.50</td>\n",
       "      <td>49977675776</td>\n",
       "      <td>21.5000</td>\n",
       "      <td>0.016</td>\n",
       "      <td>Stamford</td>\n",
       "      <td>CT</td>\n",
       "      <td>United States</td>\n",
       "      <td>101100.0</td>\n",
       "      <td>Charter Communications, Inc. operates as a bro...</td>\n",
       "      <td>0.000899</td>\n",
       "      <td>2.324543e+09</td>\n",
       "    </tr>\n",
       "    <tr>\n",
       "      <th>493</th>\n",
       "      <td>NMS</td>\n",
       "      <td>PARA</td>\n",
       "      <td>Paramount Global</td>\n",
       "      <td>Paramount Global</td>\n",
       "      <td>Communication Services</td>\n",
       "      <td>Entertainment</td>\n",
       "      <td>10.66</td>\n",
       "      <td>7596251648</td>\n",
       "      <td>3.1250</td>\n",
       "      <td>-0.056</td>\n",
       "      <td>New York</td>\n",
       "      <td>NY</td>\n",
       "      <td>United States</td>\n",
       "      <td>21900.0</td>\n",
       "      <td>Paramount Global operates as a media, streamin...</td>\n",
       "      <td>0.000137</td>\n",
       "      <td>2.430801e+09</td>\n",
       "    </tr>\n",
       "    <tr>\n",
       "      <th>367</th>\n",
       "      <td>NYQ</td>\n",
       "      <td>DVN</td>\n",
       "      <td>Devon Energy Corporation</td>\n",
       "      <td>Devon Energy Corporation</td>\n",
       "      <td>Energy</td>\n",
       "      <td>Oil &amp; Gas E&amp;P</td>\n",
       "      <td>30.77</td>\n",
       "      <td>20212811776</td>\n",
       "      <td>7.6220</td>\n",
       "      <td>-0.102</td>\n",
       "      <td>Oklahoma City</td>\n",
       "      <td>OK</td>\n",
       "      <td>United States</td>\n",
       "      <td>1900.0</td>\n",
       "      <td>Devon Energy Corporation, an independent energ...</td>\n",
       "      <td>0.000364</td>\n",
       "      <td>2.651904e+09</td>\n",
       "    </tr>\n",
       "    <tr>\n",
       "      <th>481</th>\n",
       "      <td>NYQ</td>\n",
       "      <td>AES</td>\n",
       "      <td>The AES Corporation</td>\n",
       "      <td>The AES Corporation</td>\n",
       "      <td>Utilities</td>\n",
       "      <td>Utilities - Diversified</td>\n",
       "      <td>13.00</td>\n",
       "      <td>9243351040</td>\n",
       "      <td>3.3340</td>\n",
       "      <td>-0.042</td>\n",
       "      <td>Arlington</td>\n",
       "      <td>VA</td>\n",
       "      <td>United States</td>\n",
       "      <td>9600.0</td>\n",
       "      <td>The AES Corporation, together with its subsidi...</td>\n",
       "      <td>0.000166</td>\n",
       "      <td>2.772451e+09</td>\n",
       "    </tr>\n",
       "    <tr>\n",
       "      <th>488</th>\n",
       "      <td>NMS</td>\n",
       "      <td>WBA</td>\n",
       "      <td>Walgreens Boots Alliance, Inc.</td>\n",
       "      <td>Walgreens Boots Alliance, Inc.</td>\n",
       "      <td>Healthcare</td>\n",
       "      <td>Pharmaceutical Retailers</td>\n",
       "      <td>9.55</td>\n",
       "      <td>8246310400</td>\n",
       "      <td>2.8840</td>\n",
       "      <td>0.060</td>\n",
       "      <td>Deerfield</td>\n",
       "      <td>IL</td>\n",
       "      <td>United States</td>\n",
       "      <td>193000.0</td>\n",
       "      <td>Walgreens Boots Alliance, Inc. operates as a h...</td>\n",
       "      <td>0.000148</td>\n",
       "      <td>2.859331e+09</td>\n",
       "    </tr>\n",
       "    <tr>\n",
       "      <th>168</th>\n",
       "      <td>NYQ</td>\n",
       "      <td>GM</td>\n",
       "      <td>General Motors Company</td>\n",
       "      <td>General Motors Company</td>\n",
       "      <td>Consumer Cyclical</td>\n",
       "      <td>Auto Manufacturers</td>\n",
       "      <td>51.81</td>\n",
       "      <td>56970276864</td>\n",
       "      <td>18.3710</td>\n",
       "      <td>0.105</td>\n",
       "      <td>Detroit</td>\n",
       "      <td>MI</td>\n",
       "      <td>United States</td>\n",
       "      <td>163000.0</td>\n",
       "      <td>General Motors Company designs, builds, and se...</td>\n",
       "      <td>0.001025</td>\n",
       "      <td>3.101098e+09</td>\n",
       "    </tr>\n",
       "    <tr>\n",
       "      <th>428</th>\n",
       "      <td>NMS</td>\n",
       "      <td>VTRS</td>\n",
       "      <td>Viatris Inc.</td>\n",
       "      <td>Viatris Inc.</td>\n",
       "      <td>Healthcare</td>\n",
       "      <td>Drug Manufacturers - Specialty &amp; Generic</td>\n",
       "      <td>12.52</td>\n",
       "      <td>14943747072</td>\n",
       "      <td>4.5867</td>\n",
       "      <td>-0.048</td>\n",
       "      <td>Canonsburg</td>\n",
       "      <td>PA</td>\n",
       "      <td>United States</td>\n",
       "      <td>32000.0</td>\n",
       "      <td>Viatris Inc. operates as a healthcare company ...</td>\n",
       "      <td>0.000269</td>\n",
       "      <td>3.258061e+09</td>\n",
       "    </tr>\n",
       "    <tr>\n",
       "      <th>209</th>\n",
       "      <td>NYQ</td>\n",
       "      <td>OXY</td>\n",
       "      <td>Occidental Petroleum Corporatio</td>\n",
       "      <td>Occidental Petroleum Corporation</td>\n",
       "      <td>Energy</td>\n",
       "      <td>Oil &amp; Gas E&amp;P</td>\n",
       "      <td>47.13</td>\n",
       "      <td>44224106496</td>\n",
       "      <td>12.9310</td>\n",
       "      <td>0.002</td>\n",
       "      <td>Houston</td>\n",
       "      <td>TX</td>\n",
       "      <td>United States</td>\n",
       "      <td>12570.0</td>\n",
       "      <td>Occidental Petroleum Corporation, together wit...</td>\n",
       "      <td>0.000796</td>\n",
       "      <td>3.420007e+09</td>\n",
       "    </tr>\n",
       "  </tbody>\n",
       "</table>\n",
       "</div>"
      ],
      "text/plain": [
       "    Exchange Symbol                        Shortname  \\\n",
       "491      NMS    APA                  APA Corporation   \n",
       "497      NMS    CZR      Caesars Entertainment, Inc.   \n",
       "190      NMS   CHTR     Charter Communications, Inc.   \n",
       "493      NMS   PARA                 Paramount Global   \n",
       "367      NYQ    DVN         Devon Energy Corporation   \n",
       "481      NYQ    AES              The AES Corporation   \n",
       "488      NMS    WBA   Walgreens Boots Alliance, Inc.   \n",
       "168      NYQ     GM           General Motors Company   \n",
       "428      NMS   VTRS                     Viatris Inc.   \n",
       "209      NYQ    OXY  Occidental Petroleum Corporatio   \n",
       "\n",
       "                             Longname                  Sector  \\\n",
       "491                   APA Corporation                  Energy   \n",
       "497       Caesars Entertainment, Inc.       Consumer Cyclical   \n",
       "190      Charter Communications, Inc.  Communication Services   \n",
       "493                  Paramount Global  Communication Services   \n",
       "367          Devon Energy Corporation                  Energy   \n",
       "481               The AES Corporation               Utilities   \n",
       "488    Walgreens Boots Alliance, Inc.              Healthcare   \n",
       "168            General Motors Company       Consumer Cyclical   \n",
       "428                      Viatris Inc.              Healthcare   \n",
       "209  Occidental Petroleum Corporation                  Energy   \n",
       "\n",
       "                                     Industry  Currentprice    Marketcap  \\\n",
       "491                             Oil & Gas E&P         21.04   7783685632   \n",
       "497                         Resorts & Casinos         32.82   6973593600   \n",
       "190                          Telecom Services        351.50  49977675776   \n",
       "493                             Entertainment         10.66   7596251648   \n",
       "367                             Oil & Gas E&P         30.77  20212811776   \n",
       "481                   Utilities - Diversified         13.00   9243351040   \n",
       "488                  Pharmaceutical Retailers          9.55   8246310400   \n",
       "168                        Auto Manufacturers         51.81  56970276864   \n",
       "428  Drug Manufacturers - Specialty & Generic         12.52  14943747072   \n",
       "209                             Oil & Gas E&P         47.13  44224106496   \n",
       "\n",
       "      Ebitda  Revenuegrowth           City State        Country  \\\n",
       "491   5.0470          0.104        Houston    TX  United States   \n",
       "497   3.6680         -0.040           Reno    NV  United States   \n",
       "190  21.5000          0.016       Stamford    CT  United States   \n",
       "493   3.1250         -0.056       New York    NY  United States   \n",
       "367   7.6220         -0.102  Oklahoma City    OK  United States   \n",
       "481   3.3340         -0.042      Arlington    VA  United States   \n",
       "488   2.8840          0.060      Deerfield    IL  United States   \n",
       "168  18.3710          0.105        Detroit    MI  United States   \n",
       "428   4.5867         -0.048     Canonsburg    PA  United States   \n",
       "209  12.9310          0.002        Houston    TX  United States   \n",
       "\n",
       "     Fulltimeemployees                                Longbusinesssummary  \\\n",
       "491             2271.0  APA Corporation, an independent energy company...   \n",
       "497            51000.0  Caesars Entertainment, Inc. operates as a gami...   \n",
       "190           101100.0  Charter Communications, Inc. operates as a bro...   \n",
       "493            21900.0  Paramount Global operates as a media, streamin...   \n",
       "367             1900.0  Devon Energy Corporation, an independent energ...   \n",
       "481             9600.0  The AES Corporation, together with its subsidi...   \n",
       "488           193000.0  Walgreens Boots Alliance, Inc. operates as a h...   \n",
       "168           163000.0  General Motors Company designs, builds, and se...   \n",
       "428            32000.0  Viatris Inc. operates as a healthcare company ...   \n",
       "209            12570.0  Occidental Petroleum Corporation, together wit...   \n",
       "\n",
       "       Weight  PE_ratio_est  \n",
       "491  0.000140  1.542240e+09  \n",
       "497  0.000125  1.901198e+09  \n",
       "190  0.000899  2.324543e+09  \n",
       "493  0.000137  2.430801e+09  \n",
       "367  0.000364  2.651904e+09  \n",
       "481  0.000166  2.772451e+09  \n",
       "488  0.000148  2.859331e+09  \n",
       "168  0.001025  3.101098e+09  \n",
       "428  0.000269  3.258061e+09  \n",
       "209  0.000796  3.420007e+09  "
      ]
     },
     "execution_count": 104,
     "metadata": {},
     "output_type": "execute_result"
    }
   ],
   "source": [
    "#Whatis PE rate:At a basic level, a price earnings (P/E) ratio is a way to measure how expensive a company’s shares are.\n",
    "\n",
    "#https://www.wallstreetprep.com/knowledge/pe-ratio-price-to-earnings/\n",
    "\n",
    "#P/E = Market Cap / Net Earnings\n",
    "#Since I dont have net earnings, but you do have: Marketcap and Ebitda (Earnings before interest, tax, depreciation, and amortization)\n",
    "\n",
    "#we can estimate a pseudo P/E like: P/E = Market Cap / Ebitda\n",
    "\n",
    "df_clean = df.dropna(subset=['Ebitda'])\n",
    "df_clean = df_clean[df_clean['Ebitda'] > 0]\n",
    "\n",
    "#  Calculate estimated P/E ratio\n",
    "df_clean['PE_ratio_est'] = df_clean['Marketcap'] / df_clean['Ebitda']\n",
    "\n",
    "# Sort by estimated P/E in ascending order\n",
    "df_sorted = df_clean.sort_values(by='PE_ratio_est')\n",
    "\n",
    "#  Display top 10 lowest P/E\n",
    "df_sorted.head(10)"
   ]
  },
  {
   "cell_type": "code",
   "execution_count": 128,
   "id": "e87bbaea-570d-455f-ac61-ac46873cae90",
   "metadata": {},
   "outputs": [
    {
     "data": {
      "image/png": "[encoded data removed]",
      "text/plain": [
       "<Figure size 640x480 with 1 Axes>"
      ]
     },
     "metadata": {},
     "output_type": "display_data"
    }
   ],
   "source": [
    "top10_pe = df_sorted.head(10)\n",
    "sns.barplot(\n",
    "    x='PE_ratio_est',\n",
    "    y='Shortname',\n",
    "    data=top10_pe,\n",
    ")\n",
    "plt.show()"
   ]
  },
  {
   "cell_type": "code",
   "execution_count": 130,
   "id": "e6e817dc-b36d-412c-b544-b1f47d16aa83",
   "metadata": {},
   "outputs": [
    {
     "data": {
      "text/html": [
       "<div>\n",
       "<style scoped>\n",
       "    .dataframe tbody tr th:only-of-type {\n",
       "        vertical-align: middle;\n",
       "    }\n",
       "\n",
       "    .dataframe tbody tr th {\n",
       "        vertical-align: top;\n",
       "    }\n",
       "\n",
       "    .dataframe thead th {\n",
       "        text-align: right;\n",
       "    }\n",
       "</style>\n",
       "<table border=\"1\" class=\"dataframe\">\n",
       "  <thead>\n",
       "    <tr style=\"text-align: right;\">\n",
       "      <th></th>\n",
       "      <th>Exchange</th>\n",
       "      <th>Symbol</th>\n",
       "      <th>Shortname</th>\n",
       "      <th>Longname</th>\n",
       "      <th>Sector</th>\n",
       "      <th>Industry</th>\n",
       "      <th>Currentprice</th>\n",
       "      <th>Marketcap</th>\n",
       "      <th>Ebitda</th>\n",
       "      <th>Revenuegrowth</th>\n",
       "      <th>City</th>\n",
       "      <th>State</th>\n",
       "      <th>Country</th>\n",
       "      <th>Fulltimeemployees</th>\n",
       "      <th>Longbusinesssummary</th>\n",
       "      <th>Weight</th>\n",
       "      <th>PE_ratio_est</th>\n",
       "    </tr>\n",
       "  </thead>\n",
       "  <tbody>\n",
       "    <tr>\n",
       "      <th>62</th>\n",
       "      <td>NYQ</td>\n",
       "      <td>PFE</td>\n",
       "      <td>Pfizer, Inc.</td>\n",
       "      <td>Pfizer Inc.</td>\n",
       "      <td>Healthcare</td>\n",
       "      <td>Drug Manufacturers - General</td>\n",
       "      <td>26.36</td>\n",
       "      <td>149381857280</td>\n",
       "      <td>18.365999</td>\n",
       "      <td>0.312</td>\n",
       "      <td>New York</td>\n",
       "      <td>NY</td>\n",
       "      <td>United States</td>\n",
       "      <td>88000.0</td>\n",
       "      <td>Pfizer Inc. discovers, develops, manufactures,...</td>\n",
       "      <td>0.002688</td>\n",
       "      <td>8.133609e+09</td>\n",
       "    </tr>\n",
       "    <tr>\n",
       "      <th>366</th>\n",
       "      <td>NMS</td>\n",
       "      <td>ZBRA</td>\n",
       "      <td>Zebra Technologies Corporation</td>\n",
       "      <td>Zebra Technologies Corporation</td>\n",
       "      <td>Technology</td>\n",
       "      <td>Communication Equipment</td>\n",
       "      <td>393.04</td>\n",
       "      <td>20273004544</td>\n",
       "      <td>0.803000</td>\n",
       "      <td>0.313</td>\n",
       "      <td>Lincolnshire</td>\n",
       "      <td>IL</td>\n",
       "      <td>United States</td>\n",
       "      <td>9750.0</td>\n",
       "      <td>Zebra Technologies Corporation, together with ...</td>\n",
       "      <td>0.000365</td>\n",
       "      <td>2.524658e+10</td>\n",
       "    </tr>\n",
       "    <tr>\n",
       "      <th>195</th>\n",
       "      <td>NMS</td>\n",
       "      <td>AXON</td>\n",
       "      <td>Axon Enterprise, Inc.</td>\n",
       "      <td>Axon Enterprise, Inc.</td>\n",
       "      <td>Industrials</td>\n",
       "      <td>Aerospace &amp; Defense</td>\n",
       "      <td>631.69</td>\n",
       "      <td>48169394176</td>\n",
       "      <td>0.183220</td>\n",
       "      <td>0.317</td>\n",
       "      <td>Scottsdale</td>\n",
       "      <td>AZ</td>\n",
       "      <td>United States</td>\n",
       "      <td>3330.0</td>\n",
       "      <td>Axon Enterprise, Inc. develops, manufactures, ...</td>\n",
       "      <td>0.000867</td>\n",
       "      <td>2.629047e+11</td>\n",
       "    </tr>\n",
       "    <tr>\n",
       "      <th>104</th>\n",
       "      <td>NMS</td>\n",
       "      <td>CRWD</td>\n",
       "      <td>CrowdStrike Holdings, Inc.</td>\n",
       "      <td>CrowdStrike Holdings, Inc.</td>\n",
       "      <td>Technology</td>\n",
       "      <td>Software - Infrastructure</td>\n",
       "      <td>362.29</td>\n",
       "      <td>89236021248</td>\n",
       "      <td>0.187490</td>\n",
       "      <td>0.317</td>\n",
       "      <td>Austin</td>\n",
       "      <td>TX</td>\n",
       "      <td>United States</td>\n",
       "      <td>9219.0</td>\n",
       "      <td>CrowdStrike Holdings, Inc. provides cybersecur...</td>\n",
       "      <td>0.001605</td>\n",
       "      <td>4.759508e+11</td>\n",
       "    </tr>\n",
       "    <tr>\n",
       "      <th>421</th>\n",
       "      <td>NYQ</td>\n",
       "      <td>EXPD</td>\n",
       "      <td>Expeditors International of Was</td>\n",
       "      <td>Expeditors International of Washington, Inc.</td>\n",
       "      <td>Industrials</td>\n",
       "      <td>Integrated Freight &amp; Logistics</td>\n",
       "      <td>111.48</td>\n",
       "      <td>15604525056</td>\n",
       "      <td>1.006917</td>\n",
       "      <td>0.370</td>\n",
       "      <td>Seattle</td>\n",
       "      <td>WA</td>\n",
       "      <td>United States</td>\n",
       "      <td>18690.0</td>\n",
       "      <td>Expeditors International of Washington, Inc., ...</td>\n",
       "      <td>0.000281</td>\n",
       "      <td>1.549733e+10</td>\n",
       "    </tr>\n",
       "    <tr>\n",
       "      <th>50</th>\n",
       "      <td>NMS</td>\n",
       "      <td>INTU</td>\n",
       "      <td>Intuit Inc.</td>\n",
       "      <td>Intuit Inc.</td>\n",
       "      <td>Technology</td>\n",
       "      <td>Software - Application</td>\n",
       "      <td>643.39</td>\n",
       "      <td>180095795200</td>\n",
       "      <td>4.496000</td>\n",
       "      <td>0.410</td>\n",
       "      <td>Mountain View</td>\n",
       "      <td>CA</td>\n",
       "      <td>United States</td>\n",
       "      <td>18800.0</td>\n",
       "      <td>Intuit Inc. provides financial management, com...</td>\n",
       "      <td>0.003240</td>\n",
       "      <td>4.005689e+10</td>\n",
       "    </tr>\n",
       "    <tr>\n",
       "      <th>260</th>\n",
       "      <td>NMS</td>\n",
       "      <td>ACGL</td>\n",
       "      <td>Arch Capital Group Ltd.</td>\n",
       "      <td>Arch Capital Group Ltd.</td>\n",
       "      <td>Financial Services</td>\n",
       "      <td>Insurance - Diversified</td>\n",
       "      <td>90.99</td>\n",
       "      <td>34234257408</td>\n",
       "      <td>5.172000</td>\n",
       "      <td>0.418</td>\n",
       "      <td>Pembroke</td>\n",
       "      <td>NaN</td>\n",
       "      <td>Bermuda</td>\n",
       "      <td>6400.0</td>\n",
       "      <td>Arch Capital Group Ltd., together with its sub...</td>\n",
       "      <td>0.000616</td>\n",
       "      <td>6.619153e+09</td>\n",
       "    </tr>\n",
       "    <tr>\n",
       "      <th>385</th>\n",
       "      <td>NMS</td>\n",
       "      <td>STX</td>\n",
       "      <td>Seagate Technology Holdings PLC</td>\n",
       "      <td>Seagate Technology Holdings plc</td>\n",
       "      <td>Technology</td>\n",
       "      <td>Computer Hardware</td>\n",
       "      <td>87.31</td>\n",
       "      <td>18468683776</td>\n",
       "      <td>1.211000</td>\n",
       "      <td>0.491</td>\n",
       "      <td>Singapore</td>\n",
       "      <td>NaN</td>\n",
       "      <td>Singapore</td>\n",
       "      <td>30000.0</td>\n",
       "      <td>Seagate Technology Holdings plc engages in the...</td>\n",
       "      <td>0.000332</td>\n",
       "      <td>1.525077e+10</td>\n",
       "    </tr>\n",
       "    <tr>\n",
       "      <th>60</th>\n",
       "      <td>NYQ</td>\n",
       "      <td>RTX</td>\n",
       "      <td>RTX Corporation</td>\n",
       "      <td>RTX Corporation</td>\n",
       "      <td>Industrials</td>\n",
       "      <td>Aerospace &amp; Defense</td>\n",
       "      <td>116.48</td>\n",
       "      <td>155037220864</td>\n",
       "      <td>12.571000</td>\n",
       "      <td>0.492</td>\n",
       "      <td>Arlington</td>\n",
       "      <td>VA</td>\n",
       "      <td>United States</td>\n",
       "      <td>185000.0</td>\n",
       "      <td>RTX Corporation, an aerospace and defense comp...</td>\n",
       "      <td>0.002789</td>\n",
       "      <td>1.233293e+10</td>\n",
       "    </tr>\n",
       "    <tr>\n",
       "      <th>196</th>\n",
       "      <td>NYQ</td>\n",
       "      <td>VST</td>\n",
       "      <td>Vistra Corp.</td>\n",
       "      <td>Vistra Corp.</td>\n",
       "      <td>Utilities</td>\n",
       "      <td>Utilities - Independent Power Producers</td>\n",
       "      <td>139.95</td>\n",
       "      <td>47614623744</td>\n",
       "      <td>6.020000</td>\n",
       "      <td>0.539</td>\n",
       "      <td>Irving</td>\n",
       "      <td>TX</td>\n",
       "      <td>United States</td>\n",
       "      <td>4870.0</td>\n",
       "      <td>Vistra Corp., together with its subsidiaries, ...</td>\n",
       "      <td>0.000857</td>\n",
       "      <td>7.909406e+09</td>\n",
       "    </tr>\n",
       "    <tr>\n",
       "      <th>341</th>\n",
       "      <td>NMS</td>\n",
       "      <td>CINF</td>\n",
       "      <td>Cincinnati Financial Corporatio</td>\n",
       "      <td>Cincinnati Financial Corporation</td>\n",
       "      <td>Financial Services</td>\n",
       "      <td>Insurance - Property &amp; Casualty</td>\n",
       "      <td>144.57</td>\n",
       "      <td>22598461440</td>\n",
       "      <td>4.062000</td>\n",
       "      <td>0.833</td>\n",
       "      <td>Fairfield</td>\n",
       "      <td>OH</td>\n",
       "      <td>United States</td>\n",
       "      <td>5426.0</td>\n",
       "      <td>Cincinnati Financial Corporation, together wit...</td>\n",
       "      <td>0.000407</td>\n",
       "      <td>5.563383e+09</td>\n",
       "    </tr>\n",
       "    <tr>\n",
       "      <th>215</th>\n",
       "      <td>NYQ</td>\n",
       "      <td>NEM</td>\n",
       "      <td>Newmont Corporation</td>\n",
       "      <td>Newmont Corporation</td>\n",
       "      <td>Basic Materials</td>\n",
       "      <td>Gold</td>\n",
       "      <td>38.28</td>\n",
       "      <td>43579867136</td>\n",
       "      <td>6.009000</td>\n",
       "      <td>0.847</td>\n",
       "      <td>Denver</td>\n",
       "      <td>CO</td>\n",
       "      <td>United States</td>\n",
       "      <td>21700.0</td>\n",
       "      <td>Newmont Corporation engages in the production ...</td>\n",
       "      <td>0.000784</td>\n",
       "      <td>7.252433e+09</td>\n",
       "    </tr>\n",
       "    <tr>\n",
       "      <th>96</th>\n",
       "      <td>NMS</td>\n",
       "      <td>MU</td>\n",
       "      <td>Micron Technology, Inc.</td>\n",
       "      <td>Micron Technology, Inc.</td>\n",
       "      <td>Technology</td>\n",
       "      <td>Semiconductors</td>\n",
       "      <td>90.12</td>\n",
       "      <td>100408999936</td>\n",
       "      <td>8.944000</td>\n",
       "      <td>0.933</td>\n",
       "      <td>Boise</td>\n",
       "      <td>ID</td>\n",
       "      <td>United States</td>\n",
       "      <td>48000.0</td>\n",
       "      <td>Micron Technology, Inc. designs, develops, man...</td>\n",
       "      <td>0.001806</td>\n",
       "      <td>1.122641e+10</td>\n",
       "    </tr>\n",
       "    <tr>\n",
       "      <th>1</th>\n",
       "      <td>NMS</td>\n",
       "      <td>NVDA</td>\n",
       "      <td>NVIDIA Corporation</td>\n",
       "      <td>NVIDIA Corporation</td>\n",
       "      <td>Technology</td>\n",
       "      <td>Semiconductors</td>\n",
       "      <td>134.70</td>\n",
       "      <td>3298803056640</td>\n",
       "      <td>61.184000</td>\n",
       "      <td>1.224</td>\n",
       "      <td>Santa Clara</td>\n",
       "      <td>CA</td>\n",
       "      <td>United States</td>\n",
       "      <td>29600.0</td>\n",
       "      <td>NVIDIA Corporation provides graphics and compu...</td>\n",
       "      <td>0.059350</td>\n",
       "      <td>5.391611e+10</td>\n",
       "    </tr>\n",
       "    <tr>\n",
       "      <th>223</th>\n",
       "      <td>NYQ</td>\n",
       "      <td>PRU</td>\n",
       "      <td>Prudential Financial, Inc.</td>\n",
       "      <td>Prudential Financial, Inc.</td>\n",
       "      <td>Financial Services</td>\n",
       "      <td>Insurance - Life</td>\n",
       "      <td>117.83</td>\n",
       "      <td>41939349504</td>\n",
       "      <td>5.557334</td>\n",
       "      <td>1.334</td>\n",
       "      <td>Newark</td>\n",
       "      <td>NJ</td>\n",
       "      <td>United States</td>\n",
       "      <td>40366.0</td>\n",
       "      <td>Prudential Financial, Inc., together with its ...</td>\n",
       "      <td>0.000755</td>\n",
       "      <td>7.546668e+09</td>\n",
       "    </tr>\n",
       "    <tr>\n",
       "      <th>384</th>\n",
       "      <td>NMS</td>\n",
       "      <td>SMCI</td>\n",
       "      <td>Super Micro Computer, Inc.</td>\n",
       "      <td>Super Micro Computer, Inc.</td>\n",
       "      <td>Technology</td>\n",
       "      <td>Computer Hardware</td>\n",
       "      <td>31.59</td>\n",
       "      <td>18497998848</td>\n",
       "      <td>1.304591</td>\n",
       "      <td>1.430</td>\n",
       "      <td>San Jose</td>\n",
       "      <td>CA</td>\n",
       "      <td>United States</td>\n",
       "      <td>NaN</td>\n",
       "      <td>Super Micro Computer, Inc., together with its ...</td>\n",
       "      <td>0.000333</td>\n",
       "      <td>1.417916e+10</td>\n",
       "    </tr>\n",
       "    <tr>\n",
       "      <th>307</th>\n",
       "      <td>NYQ</td>\n",
       "      <td>SW</td>\n",
       "      <td>Smurfit WestRock plc</td>\n",
       "      <td>Smurfit Westrock Plc</td>\n",
       "      <td>Consumer Cyclical</td>\n",
       "      <td>Packaging &amp; Containers</td>\n",
       "      <td>53.28</td>\n",
       "      <td>27713910784</td>\n",
       "      <td>2.173000</td>\n",
       "      <td>1.632</td>\n",
       "      <td>Dublin</td>\n",
       "      <td>NaN</td>\n",
       "      <td>Ireland</td>\n",
       "      <td>100000.0</td>\n",
       "      <td>Smurfit Westrock Plc, together with its subsid...</td>\n",
       "      <td>0.000499</td>\n",
       "      <td>1.275376e+10</td>\n",
       "    </tr>\n",
       "    <tr>\n",
       "      <th>55</th>\n",
       "      <td>NYQ</td>\n",
       "      <td>VZ</td>\n",
       "      <td>Verizon Communications Inc.</td>\n",
       "      <td>Verizon Communications Inc.</td>\n",
       "      <td>Communication Services</td>\n",
       "      <td>Telecom Services</td>\n",
       "      <td>39.93</td>\n",
       "      <td>168090517504</td>\n",
       "      <td>48.428999</td>\n",
       "      <td>NaN</td>\n",
       "      <td>New York</td>\n",
       "      <td>NY</td>\n",
       "      <td>United States</td>\n",
       "      <td>101200.0</td>\n",
       "      <td>Verizon Communications Inc., through its subsi...</td>\n",
       "      <td>0.003024</td>\n",
       "      <td>3.470865e+09</td>\n",
       "    </tr>\n",
       "    <tr>\n",
       "      <th>109</th>\n",
       "      <td>NYQ</td>\n",
       "      <td>AMT</td>\n",
       "      <td>American Tower Corporation (REI</td>\n",
       "      <td>American Tower Corporation</td>\n",
       "      <td>Real Estate</td>\n",
       "      <td>REIT - Specialty</td>\n",
       "      <td>183.73</td>\n",
       "      <td>85855002624</td>\n",
       "      <td>6.966100</td>\n",
       "      <td>NaN</td>\n",
       "      <td>Boston</td>\n",
       "      <td>MA</td>\n",
       "      <td>United States</td>\n",
       "      <td>5643.0</td>\n",
       "      <td>American Tower, one of the largest global REIT...</td>\n",
       "      <td>0.001545</td>\n",
       "      <td>1.232469e+10</td>\n",
       "    </tr>\n",
       "    <tr>\n",
       "      <th>359</th>\n",
       "      <td>NMS</td>\n",
       "      <td>WDC</td>\n",
       "      <td>Western Digital Corporation</td>\n",
       "      <td>Western Digital Corporation</td>\n",
       "      <td>Technology</td>\n",
       "      <td>Computer Hardware</td>\n",
       "      <td>60.24</td>\n",
       "      <td>20825450496</td>\n",
       "      <td>2.134000</td>\n",
       "      <td>NaN</td>\n",
       "      <td>San Jose</td>\n",
       "      <td>CA</td>\n",
       "      <td>United States</td>\n",
       "      <td>51000.0</td>\n",
       "      <td>Western Digital Corporation develops, manufact...</td>\n",
       "      <td>0.000375</td>\n",
       "      <td>9.758880e+09</td>\n",
       "    </tr>\n",
       "  </tbody>\n",
       "</table>\n",
       "</div>"
      ],
      "text/plain": [
       "    Exchange Symbol                        Shortname  \\\n",
       "62       NYQ    PFE                     Pfizer, Inc.   \n",
       "366      NMS   ZBRA   Zebra Technologies Corporation   \n",
       "195      NMS   AXON            Axon Enterprise, Inc.   \n",
       "104      NMS   CRWD       CrowdStrike Holdings, Inc.   \n",
       "421      NYQ   EXPD  Expeditors International of Was   \n",
       "50       NMS   INTU                      Intuit Inc.   \n",
       "260      NMS   ACGL          Arch Capital Group Ltd.   \n",
       "385      NMS    STX  Seagate Technology Holdings PLC   \n",
       "60       NYQ    RTX                  RTX Corporation   \n",
       "196      NYQ    VST                     Vistra Corp.   \n",
       "341      NMS   CINF  Cincinnati Financial Corporatio   \n",
       "215      NYQ    NEM              Newmont Corporation   \n",
       "96       NMS     MU          Micron Technology, Inc.   \n",
       "1        NMS   NVDA               NVIDIA Corporation   \n",
       "223      NYQ    PRU       Prudential Financial, Inc.   \n",
       "384      NMS   SMCI       Super Micro Computer, Inc.   \n",
       "307      NYQ     SW             Smurfit WestRock plc   \n",
       "55       NYQ     VZ      Verizon Communications Inc.   \n",
       "109      NYQ    AMT  American Tower Corporation (REI   \n",
       "359      NMS    WDC      Western Digital Corporation   \n",
       "\n",
       "                                         Longname                  Sector  \\\n",
       "62                                    Pfizer Inc.              Healthcare   \n",
       "366                Zebra Technologies Corporation              Technology   \n",
       "195                         Axon Enterprise, Inc.             Industrials   \n",
       "104                    CrowdStrike Holdings, Inc.              Technology   \n",
       "421  Expeditors International of Washington, Inc.             Industrials   \n",
       "50                                    Intuit Inc.              Technology   \n",
       "260                       Arch Capital Group Ltd.      Financial Services   \n",
       "385               Seagate Technology Holdings plc              Technology   \n",
       "60                                RTX Corporation             Industrials   \n",
       "196                                  Vistra Corp.               Utilities   \n",
       "341              Cincinnati Financial Corporation      Financial Services   \n",
       "215                           Newmont Corporation         Basic Materials   \n",
       "96                        Micron Technology, Inc.              Technology   \n",
       "1                              NVIDIA Corporation              Technology   \n",
       "223                    Prudential Financial, Inc.      Financial Services   \n",
       "384                    Super Micro Computer, Inc.              Technology   \n",
       "307                          Smurfit Westrock Plc       Consumer Cyclical   \n",
       "55                    Verizon Communications Inc.  Communication Services   \n",
       "109                    American Tower Corporation             Real Estate   \n",
       "359                   Western Digital Corporation              Technology   \n",
       "\n",
       "                                    Industry  Currentprice      Marketcap  \\\n",
       "62              Drug Manufacturers - General         26.36   149381857280   \n",
       "366                  Communication Equipment        393.04    20273004544   \n",
       "195                      Aerospace & Defense        631.69    48169394176   \n",
       "104                Software - Infrastructure        362.29    89236021248   \n",
       "421           Integrated Freight & Logistics        111.48    15604525056   \n",
       "50                    Software - Application        643.39   180095795200   \n",
       "260                  Insurance - Diversified         90.99    34234257408   \n",
       "385                        Computer Hardware         87.31    18468683776   \n",
       "60                       Aerospace & Defense        116.48   155037220864   \n",
       "196  Utilities - Independent Power Producers        139.95    47614623744   \n",
       "341          Insurance - Property & Casualty        144.57    22598461440   \n",
       "215                                     Gold         38.28    43579867136   \n",
       "96                            Semiconductors         90.12   100408999936   \n",
       "1                             Semiconductors        134.70  3298803056640   \n",
       "223                         Insurance - Life        117.83    41939349504   \n",
       "384                        Computer Hardware         31.59    18497998848   \n",
       "307                   Packaging & Containers         53.28    27713910784   \n",
       "55                          Telecom Services         39.93   168090517504   \n",
       "109                         REIT - Specialty        183.73    85855002624   \n",
       "359                        Computer Hardware         60.24    20825450496   \n",
       "\n",
       "        Ebitda  Revenuegrowth           City State        Country  \\\n",
       "62   18.365999          0.312       New York    NY  United States   \n",
       "366   0.803000          0.313   Lincolnshire    IL  United States   \n",
       "195   0.183220          0.317     Scottsdale    AZ  United States   \n",
       "104   0.187490          0.317         Austin    TX  United States   \n",
       "421   1.006917          0.370        Seattle    WA  United States   \n",
       "50    4.496000          0.410  Mountain View    CA  United States   \n",
       "260   5.172000          0.418       Pembroke   NaN        Bermuda   \n",
       "385   1.211000          0.491      Singapore   NaN      Singapore   \n",
       "60   12.571000          0.492      Arlington    VA  United States   \n",
       "196   6.020000          0.539         Irving    TX  United States   \n",
       "341   4.062000          0.833      Fairfield    OH  United States   \n",
       "215   6.009000          0.847         Denver    CO  United States   \n",
       "96    8.944000          0.933          Boise    ID  United States   \n",
       "1    61.184000          1.224    Santa Clara    CA  United States   \n",
       "223   5.557334          1.334         Newark    NJ  United States   \n",
       "384   1.304591          1.430       San Jose    CA  United States   \n",
       "307   2.173000          1.632         Dublin   NaN        Ireland   \n",
       "55   48.428999            NaN       New York    NY  United States   \n",
       "109   6.966100            NaN         Boston    MA  United States   \n",
       "359   2.134000            NaN       San Jose    CA  United States   \n",
       "\n",
       "     Fulltimeemployees                                Longbusinesssummary  \\\n",
       "62             88000.0  Pfizer Inc. discovers, develops, manufactures,...   \n",
       "366             9750.0  Zebra Technologies Corporation, together with ...   \n",
       "195             3330.0  Axon Enterprise, Inc. develops, manufactures, ...   \n",
       "104             9219.0  CrowdStrike Holdings, Inc. provides cybersecur...   \n",
       "421            18690.0  Expeditors International of Washington, Inc., ...   \n",
       "50             18800.0  Intuit Inc. provides financial management, com...   \n",
       "260             6400.0  Arch Capital Group Ltd., together with its sub...   \n",
       "385            30000.0  Seagate Technology Holdings plc engages in the...   \n",
       "60            185000.0  RTX Corporation, an aerospace and defense comp...   \n",
       "196             4870.0  Vistra Corp., together with its subsidiaries, ...   \n",
       "341             5426.0  Cincinnati Financial Corporation, together wit...   \n",
       "215            21700.0  Newmont Corporation engages in the production ...   \n",
       "96             48000.0  Micron Technology, Inc. designs, develops, man...   \n",
       "1              29600.0  NVIDIA Corporation provides graphics and compu...   \n",
       "223            40366.0  Prudential Financial, Inc., together with its ...   \n",
       "384                NaN  Super Micro Computer, Inc., together with its ...   \n",
       "307           100000.0  Smurfit Westrock Plc, together with its subsid...   \n",
       "55            101200.0  Verizon Communications Inc., through its subsi...   \n",
       "109             5643.0  American Tower, one of the largest global REIT...   \n",
       "359            51000.0  Western Digital Corporation develops, manufact...   \n",
       "\n",
       "       Weight  PE_ratio_est  \n",
       "62   0.002688  8.133609e+09  \n",
       "366  0.000365  2.524658e+10  \n",
       "195  0.000867  2.629047e+11  \n",
       "104  0.001605  4.759508e+11  \n",
       "421  0.000281  1.549733e+10  \n",
       "50   0.003240  4.005689e+10  \n",
       "260  0.000616  6.619153e+09  \n",
       "385  0.000332  1.525077e+10  \n",
       "60   0.002789  1.233293e+10  \n",
       "196  0.000857  7.909406e+09  \n",
       "341  0.000407  5.563383e+09  \n",
       "215  0.000784  7.252433e+09  \n",
       "96   0.001806  1.122641e+10  \n",
       "1    0.059350  5.391611e+10  \n",
       "223  0.000755  7.546668e+09  \n",
       "384  0.000333  1.417916e+10  \n",
       "307  0.000499  1.275376e+10  \n",
       "55   0.003024  3.470865e+09  \n",
       "109  0.001545  1.232469e+10  \n",
       "359  0.000375  9.758880e+09  "
      ]
     },
     "execution_count": 130,
     "metadata": {},
     "output_type": "execute_result"
    }
   ],
   "source": [
    "df_sorted_Reve = df_clean.sort_values(by='Revenuegrowth')\n",
    "df_sorted_Reve.tail(20)"
   ]
  },
  {
   "cell_type": "code",
   "execution_count": 132,
   "id": "08dbf30b-57cf-4a56-b25e-3e5ce1a32331",
   "metadata": {},
   "outputs": [
    {
     "data": {
      "text/html": [
       "<div>\n",
       "<style scoped>\n",
       "    .dataframe tbody tr th:only-of-type {\n",
       "        vertical-align: middle;\n",
       "    }\n",
       "\n",
       "    .dataframe tbody tr th {\n",
       "        vertical-align: top;\n",
       "    }\n",
       "\n",
       "    .dataframe thead th {\n",
       "        text-align: right;\n",
       "    }\n",
       "</style>\n",
       "<table border=\"1\" class=\"dataframe\">\n",
       "  <thead>\n",
       "    <tr style=\"text-align: right;\">\n",
       "      <th></th>\n",
       "      <th>Symbol</th>\n",
       "      <th>Currentprice</th>\n",
       "      <th>Marketcap</th>\n",
       "      <th>Ebitda</th>\n",
       "      <th>Revenuegrowth</th>\n",
       "    </tr>\n",
       "  </thead>\n",
       "  <tbody>\n",
       "    <tr>\n",
       "      <th>0</th>\n",
       "      <td>AAPL</td>\n",
       "      <td>254.49</td>\n",
       "      <td>3846819807232</td>\n",
       "      <td>134.660997</td>\n",
       "      <td>0.061</td>\n",
       "    </tr>\n",
       "    <tr>\n",
       "      <th>1</th>\n",
       "      <td>NVDA</td>\n",
       "      <td>134.70</td>\n",
       "      <td>3298803056640</td>\n",
       "      <td>61.184000</td>\n",
       "      <td>1.224</td>\n",
       "    </tr>\n",
       "    <tr>\n",
       "      <th>2</th>\n",
       "      <td>MSFT</td>\n",
       "      <td>436.60</td>\n",
       "      <td>3246068596736</td>\n",
       "      <td>136.551997</td>\n",
       "      <td>0.160</td>\n",
       "    </tr>\n",
       "    <tr>\n",
       "      <th>3</th>\n",
       "      <td>AMZN</td>\n",
       "      <td>224.92</td>\n",
       "      <td>2365033807872</td>\n",
       "      <td>111.583003</td>\n",
       "      <td>0.110</td>\n",
       "    </tr>\n",
       "    <tr>\n",
       "      <th>4</th>\n",
       "      <td>GOOGL</td>\n",
       "      <td>191.41</td>\n",
       "      <td>2351625142272</td>\n",
       "      <td>123.469996</td>\n",
       "      <td>0.151</td>\n",
       "    </tr>\n",
       "    <tr>\n",
       "      <th>5</th>\n",
       "      <td>GOOG</td>\n",
       "      <td>192.96</td>\n",
       "      <td>2351623045120</td>\n",
       "      <td>123.469996</td>\n",
       "      <td>0.151</td>\n",
       "    </tr>\n",
       "    <tr>\n",
       "      <th>6</th>\n",
       "      <td>META</td>\n",
       "      <td>585.25</td>\n",
       "      <td>1477457739776</td>\n",
       "      <td>79.208997</td>\n",
       "      <td>0.189</td>\n",
       "    </tr>\n",
       "    <tr>\n",
       "      <th>7</th>\n",
       "      <td>TSLA</td>\n",
       "      <td>421.06</td>\n",
       "      <td>1351627833344</td>\n",
       "      <td>13.244000</td>\n",
       "      <td>0.078</td>\n",
       "    </tr>\n",
       "    <tr>\n",
       "      <th>8</th>\n",
       "      <td>AVGO</td>\n",
       "      <td>220.79</td>\n",
       "      <td>1031217348608</td>\n",
       "      <td>22.958000</td>\n",
       "      <td>0.164</td>\n",
       "    </tr>\n",
       "    <tr>\n",
       "      <th>9</th>\n",
       "      <td>BRK-B</td>\n",
       "      <td>453.20</td>\n",
       "      <td>978776031232</td>\n",
       "      <td>149.547008</td>\n",
       "      <td>-0.002</td>\n",
       "    </tr>\n",
       "    <tr>\n",
       "      <th>10</th>\n",
       "      <td>WMT</td>\n",
       "      <td>92.24</td>\n",
       "      <td>740999888896</td>\n",
       "      <td>40.779002</td>\n",
       "      <td>0.048</td>\n",
       "    </tr>\n",
       "    <tr>\n",
       "      <th>11</th>\n",
       "      <td>LLY</td>\n",
       "      <td>767.76</td>\n",
       "      <td>690458853376</td>\n",
       "      <td>16.566500</td>\n",
       "      <td>0.204</td>\n",
       "    </tr>\n",
       "    <tr>\n",
       "      <th>12</th>\n",
       "      <td>JPM</td>\n",
       "      <td>237.60</td>\n",
       "      <td>668924837888</td>\n",
       "      <td>NaN</td>\n",
       "      <td>0.030</td>\n",
       "    </tr>\n",
       "    <tr>\n",
       "      <th>13</th>\n",
       "      <td>V</td>\n",
       "      <td>317.71</td>\n",
       "      <td>615235846144</td>\n",
       "      <td>24.973001</td>\n",
       "      <td>0.117</td>\n",
       "    </tr>\n",
       "    <tr>\n",
       "      <th>14</th>\n",
       "      <td>MA</td>\n",
       "      <td>528.03</td>\n",
       "      <td>484642324480</td>\n",
       "      <td>16.784000</td>\n",
       "      <td>0.128</td>\n",
       "    </tr>\n",
       "    <tr>\n",
       "      <th>15</th>\n",
       "      <td>ORCL</td>\n",
       "      <td>169.66</td>\n",
       "      <td>474532249600</td>\n",
       "      <td>21.803000</td>\n",
       "      <td>0.069</td>\n",
       "    </tr>\n",
       "    <tr>\n",
       "      <th>16</th>\n",
       "      <td>XOM</td>\n",
       "      <td>105.87</td>\n",
       "      <td>465308188672</td>\n",
       "      <td>71.538000</td>\n",
       "      <td>-0.015</td>\n",
       "    </tr>\n",
       "    <tr>\n",
       "      <th>17</th>\n",
       "      <td>UNH</td>\n",
       "      <td>500.13</td>\n",
       "      <td>460261654528</td>\n",
       "      <td>35.035001</td>\n",
       "      <td>0.092</td>\n",
       "    </tr>\n",
       "    <tr>\n",
       "      <th>18</th>\n",
       "      <td>COST</td>\n",
       "      <td>954.07</td>\n",
       "      <td>423510736896</td>\n",
       "      <td>11.522000</td>\n",
       "      <td>0.010</td>\n",
       "    </tr>\n",
       "    <tr>\n",
       "      <th>19</th>\n",
       "      <td>PG</td>\n",
       "      <td>168.06</td>\n",
       "      <td>395788025856</td>\n",
       "      <td>24.039999</td>\n",
       "      <td>-0.006</td>\n",
       "    </tr>\n",
       "  </tbody>\n",
       "</table>\n",
       "</div>"
      ],
      "text/plain": [
       "   Symbol  Currentprice      Marketcap      Ebitda  Revenuegrowth\n",
       "0    AAPL        254.49  3846819807232  134.660997          0.061\n",
       "1    NVDA        134.70  3298803056640   61.184000          1.224\n",
       "2    MSFT        436.60  3246068596736  136.551997          0.160\n",
       "3    AMZN        224.92  2365033807872  111.583003          0.110\n",
       "4   GOOGL        191.41  2351625142272  123.469996          0.151\n",
       "5    GOOG        192.96  2351623045120  123.469996          0.151\n",
       "6    META        585.25  1477457739776   79.208997          0.189\n",
       "7    TSLA        421.06  1351627833344   13.244000          0.078\n",
       "8    AVGO        220.79  1031217348608   22.958000          0.164\n",
       "9   BRK-B        453.20   978776031232  149.547008         -0.002\n",
       "10    WMT         92.24   740999888896   40.779002          0.048\n",
       "11    LLY        767.76   690458853376   16.566500          0.204\n",
       "12    JPM        237.60   668924837888         NaN          0.030\n",
       "13      V        317.71   615235846144   24.973001          0.117\n",
       "14     MA        528.03   484642324480   16.784000          0.128\n",
       "15   ORCL        169.66   474532249600   21.803000          0.069\n",
       "16    XOM        105.87   465308188672   71.538000         -0.015\n",
       "17    UNH        500.13   460261654528   35.035001          0.092\n",
       "18   COST        954.07   423510736896   11.522000          0.010\n",
       "19     PG        168.06   395788025856   24.039999         -0.006"
      ]
     },
     "execution_count": 132,
     "metadata": {},
     "output_type": "execute_result"
    }
   ],
   "source": [
    "df_matrix = df[['Symbol', 'Currentprice', 'Marketcap', 'Ebitda', 'Revenuegrowth']].head(20)\n",
    "df_matrix"
   ]
  },
  {
   "cell_type": "code",
   "execution_count": 134,
   "id": "5384dd2d-27ef-405a-9873-502d23541971",
   "metadata": {},
   "outputs": [
    {
     "data": {
      "text/html": [
       "        <script type=\"text/javascript\">\n",
       "        window.PlotlyConfig = {MathJaxConfig: 'local'};\n",
       "        if (window.MathJax && window.MathJax.Hub && window.MathJax.Hub.Config) {window.MathJax.Hub.Config({SVG: {font: \"STIX-Web\"}});}\n",
       "        if (typeof require !== 'undefined') {\n",
       "        require.undef(\"plotly\");\n",
       "        requirejs.config({\n",
       "            paths: {\n",
       "                'plotly': ['https://cdn.plot.ly/plotly-2.35.2.min']\n",
       "            }\n",
       "        });\n",
       "        require(['plotly'], function(Plotly) {\n",
       "            window._Plotly = Plotly;\n",
       "        });\n",
       "        }\n",
       "        </script>\n",
       "        "
      ]
     },
     "metadata": {},
     "output_type": "display_data"
    },
    {
     "data": {
      "text/html": [
       "        <script type=\"text/javascript\">\n",
       "        window.PlotlyConfig = {MathJaxConfig: 'local'};\n",
       "        if (window.MathJax && window.MathJax.Hub && window.MathJax.Hub.Config) {window.MathJax.Hub.Config({SVG: {font: \"STIX-Web\"}});}\n",
       "        if (typeof require !== 'undefined') {\n",
       "        require.undef(\"plotly\");\n",
       "        requirejs.config({\n",
       "            paths: {\n",
       "                'plotly': ['https://cdn.plot.ly/plotly-2.35.2.min']\n",
       "            }\n",
       "        });\n",
       "        require(['plotly'], function(Plotly) {\n",
       "            window._Plotly = Plotly;\n",
       "        });\n",
       "        }\n",
       "        </script>\n",
       "        "
      ]
     },
     "metadata": {},
     "output_type": "display_data"
    },
    {
     "data": {
      "application/vnd.plotly.v1+json": {
       "config": {
        "linkText": "Export to plot.ly",
        "plotlyServerURL": "https://plot.ly",
        "showLink": true
       },
       "data": [
        {
         "histfunc": "count",
         "histnorm": "",
         "marker": {
          "color": "rgba(255, 153, 51, 1.0)",
          "line": {
           "color": "#4D5663",
           "width": 1.3
          }
         },
         "name": "Currentprice",
         "nbinsx": 10,
         "opacity": 0.8,
         "orientation": "v",
         "type": "histogram",
         "x": [
          254.49,
          134.7,
          436.6,
          224.92,
          191.41,
          192.96,
          585.25,
          421.06,
          220.79,
          453.2,
          92.24,
          767.76,
          237.6,
          317.71,
          528.03,
          169.66,
          105.87,
          500.13,
          954.07,
          168.06
         ],
         "xaxis": "x",
         "yaxis": "y"
        },
        {
         "line": {
          "color": "rgba(128, 128, 128, 1.0)",
          "dash": "solid",
          "shape": "linear",
          "width": 1.3
         },
         "marker": {
          "size": 2,
          "symbol": "circle"
         },
         "mode": "markers",
         "name": "Currentprice",
         "text": "",
         "type": "scatter",
         "x": [
          3846819807232,
          3298803056640,
          3246068596736,
          2365033807872,
          2351625142272,
          2351623045120,
          1477457739776,
          1351627833344,
          1031217348608,
          978776031232,
          740999888896,
          690458853376,
          668924837888,
          615235846144,
          484642324480,
          474532249600,
          465308188672,
          460261654528,
          423510736896,
          395788025856
         ],
         "xaxis": "x2",
         "y": [
          254.49,
          134.7,
          436.6,
          224.92,
          191.41,
          192.96,
          585.25,
          421.06,
          220.79,
          453.2,
          92.24,
          767.76,
          237.6,
          317.71,
          528.03,
          169.66,
          105.87,
          500.13,
          954.07,
          168.06
         ],
         "yaxis": "y2"
        },
        {
         "line": {
          "color": "rgba(128, 128, 128, 1.0)",
          "dash": "solid",
          "shape": "linear",
          "width": 1.3
         },
         "marker": {
          "size": 2,
          "symbol": "circle"
         },
         "mode": "markers",
         "name": "Currentprice",
         "text": "",
         "type": "scatter",
         "x": [
          134.66099712,
          61.184,
          136.55199744,
          111.583002624,
          123.469996032,
          123.469996032,
          79.208996864,
          13.244000256,
          22.958000128,
          149.547008,
          40.779001856,
          16.566500352,
          null,
          24.973000704,
          16.784,
          21.802999808,
          71.537999872,
          35.035000832,
          11.521999872,
          24.039999488
         ],
         "xaxis": "x3",
         "y": [
          254.49,
          134.7,
          436.6,
          224.92,
          191.41,
          192.96,
          585.25,
          421.06,
          220.79,
          453.2,
          92.24,
          767.76,
          237.6,
          317.71,
          528.03,
          169.66,
          105.87,
          500.13,
          954.07,
          168.06
         ],
         "yaxis": "y3"
        },
        {
         "line": {
          "color": "rgba(128, 128, 128, 1.0)",
          "dash": "solid",
          "shape": "linear",
          "width": 1.3
         },
         "marker": {
          "size": 2,
          "symbol": "circle"
         },
         "mode": "markers",
         "name": "Currentprice",
         "text": "",
         "type": "scatter",
         "x": [
          0.061,
          1.224,
          0.16,
          0.11,
          0.151,
          0.151,
          0.189,
          0.078,
          0.164,
          -0.002,
          0.048,
          0.204,
          0.03,
          0.117,
          0.128,
          0.069,
          -0.015,
          0.092,
          0.01,
          -0.006
         ],
         "xaxis": "x4",
         "y": [
          254.49,
          134.7,
          436.6,
          224.92,
          191.41,
          192.96,
          585.25,
          421.06,
          220.79,
          453.2,
          92.24,
          767.76,
          237.6,
          317.71,
          528.03,
          169.66,
          105.87,
          500.13,
          954.07,
          168.06
         ],
         "yaxis": "y4"
        },
        {
         "line": {
          "color": "rgba(128, 128, 128, 1.0)",
          "dash": "solid",
          "shape": "linear",
          "width": 1.3
         },
         "marker": {
          "size": 2,
          "symbol": "circle"
         },
         "mode": "markers",
         "name": "Marketcap",
         "text": "",
         "type": "scatter",
         "x": [
          254.49,
          134.7,
          436.6,
          224.92,
          191.41,
          192.96,
          585.25,
          421.06,
          220.79,
          453.2,
          92.24,
          767.76,
          237.6,
          317.71,
          528.03,
          169.66,
          105.87,
          500.13,
          954.07,
          168.06
         ],
         "xaxis": "x5",
         "y": [
          3846819807232,
          3298803056640,
          3246068596736,
          2365033807872,
          2351625142272,
          2351623045120,
          1477457739776,
          1351627833344,
          1031217348608,
          978776031232,
          740999888896,
          690458853376,
          668924837888,
          615235846144,
          484642324480,
          474532249600,
          465308188672,
          460261654528,
          423510736896,
          395788025856
         ],
         "yaxis": "y5"
        },
        {
         "histfunc": "count",
         "histnorm": "",
         "marker": {
          "color": "rgba(55, 128, 191, 1.0)",
          "line": {
           "color": "#4D5663",
           "width": 1.3
          }
         },
         "name": "Marketcap",
         "nbinsx": 10,
         "opacity": 0.8,
         "orientation": "v",
         "type": "histogram",
         "x": [
          3846819807232,
          3298803056640,
          3246068596736,
          2365033807872,
          2351625142272,
          2351623045120,
          1477457739776,
          1351627833344,
          1031217348608,
          978776031232,
          740999888896,
          690458853376,
          668924837888,
          615235846144,
          484642324480,
          474532249600,
          465308188672,
          460261654528,
          423510736896,
          395788025856
         ],
         "xaxis": "x6",
         "yaxis": "y6"
        },
        {
         "line": {
          "color": "rgba(128, 128, 128, 1.0)",
          "dash": "solid",
          "shape": "linear",
          "width": 1.3
         },
         "marker": {
          "size": 2,
          "symbol": "circle"
         },
         "mode": "markers",
         "name": "Marketcap",
         "text": "",
         "type": "scatter",
         "x": [
          134.66099712,
          61.184,
          136.55199744,
          111.583002624,
          123.469996032,
          123.469996032,
          79.208996864,
          13.244000256,
          22.958000128,
          149.547008,
          40.779001856,
          16.566500352,
          null,
          24.973000704,
          16.784,
          21.802999808,
          71.537999872,
          35.035000832,
          11.521999872,
          24.039999488
         ],
         "xaxis": "x7",
         "y": [
          3846819807232,
          3298803056640,
          3246068596736,
          2365033807872,
          2351625142272,
          2351623045120,
          1477457739776,
          1351627833344,
          1031217348608,
          978776031232,
          740999888896,
          690458853376,
          668924837888,
          615235846144,
          484642324480,
          474532249600,
          465308188672,
          460261654528,
          423510736896,
          395788025856
         ],
         "yaxis": "y7"
        },
        {
         "line": {
          "color": "rgba(128, 128, 128, 1.0)",
          "dash": "solid",
          "shape": "linear",
          "width": 1.3
         },
         "marker": {
          "size": 2,
          "symbol": "circle"
         },
         "mode": "markers",
         "name": "Marketcap",
         "text": "",
         "type": "scatter",
         "x": [
          0.061,
          1.224,
          0.16,
          0.11,
          0.151,
          0.151,
          0.189,
          0.078,
          0.164,
          -0.002,
          0.048,
          0.204,
          0.03,
          0.117,
          0.128,
          0.069,
          -0.015,
          0.092,
          0.01,
          -0.006
         ],
         "xaxis": "x8",
         "y": [
          3846819807232,
          3298803056640,
          3246068596736,
          2365033807872,
          2351625142272,
          2351623045120,
          1477457739776,
          1351627833344,
          1031217348608,
          978776031232,
          740999888896,
          690458853376,
          668924837888,
          615235846144,
          484642324480,
          474532249600,
          465308188672,
          460261654528,
          423510736896,
          395788025856
         ],
         "yaxis": "y8"
        },
        {
         "line": {
          "color": "rgba(128, 128, 128, 1.0)",
          "dash": "solid",
          "shape": "linear",
          "width": 1.3
         },
         "marker": {
          "size": 2,
          "symbol": "circle"
         },
         "mode": "markers",
         "name": "Ebitda",
         "text": "",
         "type": "scatter",
         "x": [
          254.49,
          134.7,
          436.6,
          224.92,
          191.41,
          192.96,
          585.25,
          421.06,
          220.79,
          453.2,
          92.24,
          767.76,
          237.6,
          317.71,
          528.03,
          169.66,
          105.87,
          500.13,
          954.07,
          168.06
         ],
         "xaxis": "x9",
         "y": [
          134.66099712,
          61.184,
          136.55199744,
          111.583002624,
          123.469996032,
          123.469996032,
          79.208996864,
          13.244000256,
          22.958000128,
          149.547008,
          40.779001856,
          16.566500352,
          "",
          24.973000704,
          16.784,
          21.802999808,
          71.537999872,
          35.035000832,
          11.521999872,
          24.039999488
         ],
         "yaxis": "y9"
        },
        {
         "line": {
          "color": "rgba(128, 128, 128, 1.0)",
          "dash": "solid",
          "shape": "linear",
          "width": 1.3
         },
         "marker": {
          "size": 2,
          "symbol": "circle"
         },
         "mode": "markers",
         "name": "Ebitda",
         "text": "",
         "type": "scatter",
         "x": [
          3846819807232,
          3298803056640,
          3246068596736,
          2365033807872,
          2351625142272,
          2351623045120,
          1477457739776,
          1351627833344,
          1031217348608,
          978776031232,
          740999888896,
          690458853376,
          668924837888,
          615235846144,
          484642324480,
          474532249600,
          465308188672,
          460261654528,
          423510736896,
          395788025856
         ],
         "xaxis": "x10",
         "y": [
          134.66099712,
          61.184,
          136.55199744,
          111.583002624,
          123.469996032,
          123.469996032,
          79.208996864,
          13.244000256,
          22.958000128,
          149.547008,
          40.779001856,
          16.566500352,
          "",
          24.973000704,
          16.784,
          21.802999808,
          71.537999872,
          35.035000832,
          11.521999872,
          24.039999488
         ],
         "yaxis": "y10"
        },
        {
         "histfunc": "count",
         "histnorm": "",
         "marker": {
          "color": "rgba(50, 171, 96, 1.0)",
          "line": {
           "color": "#4D5663",
           "width": 1.3
          }
         },
         "name": "Ebitda",
         "nbinsx": 10,
         "opacity": 0.8,
         "orientation": "v",
         "type": "histogram",
         "x": [
          134.66099712,
          61.184,
          136.55199744,
          111.583002624,
          123.469996032,
          123.469996032,
          79.208996864,
          13.244000256,
          22.958000128,
          149.547008,
          40.779001856,
          16.566500352,
          null,
          24.973000704,
          16.784,
          21.802999808,
          71.537999872,
          35.035000832,
          11.521999872,
          24.039999488
         ],
         "xaxis": "x11",
         "yaxis": "y11"
        },
        {
         "line": {
          "color": "rgba(128, 128, 128, 1.0)",
          "dash": "solid",
          "shape": "linear",
          "width": 1.3
         },
         "marker": {
          "size": 2,
          "symbol": "circle"
         },
         "mode": "markers",
         "name": "Ebitda",
         "text": "",
         "type": "scatter",
         "x": [
          0.061,
          1.224,
          0.16,
          0.11,
          0.151,
          0.151,
          0.189,
          0.078,
          0.164,
          -0.002,
          0.048,
          0.204,
          0.03,
          0.117,
          0.128,
          0.069,
          -0.015,
          0.092,
          0.01,
          -0.006
         ],
         "xaxis": "x12",
         "y": [
          134.66099712,
          61.184,
          136.55199744,
          111.583002624,
          123.469996032,
          123.469996032,
          79.208996864,
          13.244000256,
          22.958000128,
          149.547008,
          40.779001856,
          16.566500352,
          "",
          24.973000704,
          16.784,
          21.802999808,
          71.537999872,
          35.035000832,
          11.521999872,
          24.039999488
         ],
         "yaxis": "y12"
        },
        {
         "line": {
          "color": "rgba(128, 128, 128, 1.0)",
          "dash": "solid",
          "shape": "linear",
          "width": 1.3
         },
         "marker": {
          "size": 2,
          "symbol": "circle"
         },
         "mode": "markers",
         "name": "Revenuegrowth",
         "text": "",
         "type": "scatter",
         "x": [
          254.49,
          134.7,
          436.6,
          224.92,
          191.41,
          192.96,
          585.25,
          421.06,
          220.79,
          453.2,
          92.24,
          767.76,
          237.6,
          317.71,
          528.03,
          169.66,
          105.87,
          500.13,
          954.07,
          168.06
         ],
         "xaxis": "x13",
         "y": [
          0.061,
          1.224,
          0.16,
          0.11,
          0.151,
          0.151,
          0.189,
          0.078,
          0.164,
          -0.002,
          0.048,
          0.204,
          0.03,
          0.117,
          0.128,
          0.069,
          -0.015,
          0.092,
          0.01,
          -0.006
         ],
         "yaxis": "y13"
        },
        {
         "line": {
          "color": "rgba(128, 128, 128, 1.0)",
          "dash": "solid",
          "shape": "linear",
          "width": 1.3
         },
         "marker": {
          "size": 2,
          "symbol": "circle"
         },
         "mode": "markers",
         "name": "Revenuegrowth",
         "text": "",
         "type": "scatter",
         "x": [
          3846819807232,
          3298803056640,
          3246068596736,
          2365033807872,
          2351625142272,
          2351623045120,
          1477457739776,
          1351627833344,
          1031217348608,
          978776031232,
          740999888896,
          690458853376,
          668924837888,
          615235846144,
          484642324480,
          474532249600,
          465308188672,
          460261654528,
          423510736896,
          395788025856
         ],
         "xaxis": "x14",
         "y": [
          0.061,
          1.224,
          0.16,
          0.11,
          0.151,
          0.151,
          0.189,
          0.078,
          0.164,
          -0.002,
          0.048,
          0.204,
          0.03,
          0.117,
          0.128,
          0.069,
          -0.015,
          0.092,
          0.01,
          -0.006
         ],
         "yaxis": "y14"
        },
        {
         "line": {
          "color": "rgba(128, 128, 128, 1.0)",
          "dash": "solid",
          "shape": "linear",
          "width": 1.3
         },
         "marker": {
          "size": 2,
          "symbol": "circle"
         },
         "mode": "markers",
         "name": "Revenuegrowth",
         "text": "",
         "type": "scatter",
         "x": [
          134.66099712,
          61.184,
          136.55199744,
          111.583002624,
          123.469996032,
          123.469996032,
          79.208996864,
          13.244000256,
          22.958000128,
          149.547008,
          40.779001856,
          16.566500352,
          null,
          24.973000704,
          16.784,
          21.802999808,
          71.537999872,
          35.035000832,
          11.521999872,
          24.039999488
         ],
         "xaxis": "x15",
         "y": [
          0.061,
          1.224,
          0.16,
          0.11,
          0.151,
          0.151,
          0.189,
          0.078,
          0.164,
          -0.002,
          0.048,
          0.204,
          0.03,
          0.117,
          0.128,
          0.069,
          -0.015,
          0.092,
          0.01,
          -0.006
         ],
         "yaxis": "y15"
        },
        {
         "histfunc": "count",
         "histnorm": "",
         "marker": {
          "color": "rgba(128, 0, 128, 1.0)",
          "line": {
           "color": "#4D5663",
           "width": 1.3
          }
         },
         "name": "Revenuegrowth",
         "nbinsx": 10,
         "opacity": 0.8,
         "orientation": "v",
         "type": "histogram",
         "x": [
          0.061,
          1.224,
          0.16,
          0.11,
          0.151,
          0.151,
          0.189,
          0.078,
          0.164,
          -0.002,
          0.048,
          0.204,
          0.03,
          0.117,
          0.128,
          0.069,
          -0.015,
          0.092,
          0.01,
          -0.006
         ],
         "xaxis": "x16",
         "yaxis": "y16"
        }
       ],
       "layout": {
        "autosize": true,
        "bargap": 0.02,
        "legend": {
         "bgcolor": "#F5F6F9",
         "font": {
          "color": "#4D5663"
         }
        },
        "paper_bgcolor": "#F5F6F9",
        "plot_bgcolor": "#F5F6F9",
        "showlegend": false,
        "template": {
         "data": {
          "bar": [
           {
            "error_x": {
             "color": "#2a3f5f"
            },
            "error_y": {
             "color": "#2a3f5f"
            },
            "marker": {
             "line": {
              "color": "#E5ECF6",
              "width": 0.5
             },
             "pattern": {
              "fillmode": "overlay",
              "size": 10,
              "solidity": 0.2
             }
            },
            "type": "bar"
           }
          ],
          "barpolar": [
           {
            "marker": {
             "line": {
              "color": "#E5ECF6",
              "width": 0.5
             },
             "pattern": {
              "fillmode": "overlay",
              "size": 10,
              "solidity": 0.2
             }
            },
            "type": "barpolar"
           }
          ],
          "carpet": [
           {
            "aaxis": {
             "endlinecolor": "#2a3f5f",
             "gridcolor": "white",
             "linecolor": "white",
             "minorgridcolor": "white",
             "startlinecolor": "#2a3f5f"
            },
            "baxis": {
             "endlinecolor": "#2a3f5f",
             "gridcolor": "white",
             "linecolor": "white",
             "minorgridcolor": "white",
             "startlinecolor": "#2a3f5f"
            },
            "type": "carpet"
           }
          ],
          "choropleth": [
           {
            "colorbar": {
             "outlinewidth": 0,
             "ticks": ""
            },
            "type": "choropleth"
           }
          ],
          "contour": [
           {
            "colorbar": {
             "outlinewidth": 0,
             "ticks": ""
            },
            "colorscale": [
             [
              0,
              "#0d0887"
             ],
             [
              0.1111111111111111,
              "#46039f"
             ],
             [
              0.2222222222222222,
              "#7201a8"
             ],
             [
              0.3333333333333333,
              "#9c179e"
             ],
             [
              0.4444444444444444,
              "#bd3786"
             ],
             [
              0.5555555555555556,
              "#d8576b"
             ],
             [
              0.6666666666666666,
              "#ed7953"
             ],
             [
              0.7777777777777778,
              "#fb9f3a"
             ],
             [
              0.8888888888888888,
              "#fdca26"
             ],
             [
              1,
              "#f0f921"
             ]
            ],
            "type": "contour"
           }
          ],
          "contourcarpet": [
           {
            "colorbar": {
             "outlinewidth": 0,
             "ticks": ""
            },
            "type": "contourcarpet"
           }
          ],
          "heatmap": [
           {
            "colorbar": {
             "outlinewidth": 0,
             "ticks": ""
            },
            "colorscale": [
             [
              0,
              "#0d0887"
             ],
             [
              0.1111111111111111,
              "#46039f"
             ],
             [
              0.2222222222222222,
              "#7201a8"
             ],
             [
              0.3333333333333333,
              "#9c179e"
             ],
             [
              0.4444444444444444,
              "#bd3786"
             ],
             [
              0.5555555555555556,
              "#d8576b"
             ],
             [
              0.6666666666666666,
              "#ed7953"
             ],
             [
              0.7777777777777778,
              "#fb9f3a"
             ],
             [
              0.8888888888888888,
              "#fdca26"
             ],
             [
              1,
              "#f0f921"
             ]
            ],
            "type": "heatmap"
           }
          ],
          "heatmapgl": [
           {
            "colorbar": {
             "outlinewidth": 0,
             "ticks": ""
            },
            "colorscale": [
             [
              0,
              "#0d0887"
             ],
             [
              0.1111111111111111,
              "#46039f"
             ],
             [
              0.2222222222222222,
              "#7201a8"
             ],
             [
              0.3333333333333333,
              "#9c179e"
             ],
             [
              0.4444444444444444,
              "#bd3786"
             ],
             [
              0.5555555555555556,
              "#d8576b"
             ],
             [
              0.6666666666666666,
              "#ed7953"
             ],
             [
              0.7777777777777778,
              "#fb9f3a"
             ],
             [
              0.8888888888888888,
              "#fdca26"
             ],
             [
              1,
              "#f0f921"
             ]
            ],
            "type": "heatmapgl"
           }
          ],
          "histogram": [
           {
            "marker": {
             "pattern": {
              "fillmode": "overlay",
              "size": 10,
              "solidity": 0.2
             }
            },
            "type": "histogram"
           }
          ],
          "histogram2d": [
           {
            "colorbar": {
             "outlinewidth": 0,
             "ticks": ""
            },
            "colorscale": [
             [
              0,
              "#0d0887"
             ],
             [
              0.1111111111111111,
              "#46039f"
             ],
             [
              0.2222222222222222,
              "#7201a8"
             ],
             [
              0.3333333333333333,
              "#9c179e"
             ],
             [
              0.4444444444444444,
              "#bd3786"
             ],
             [
              0.5555555555555556,
              "#d8576b"
             ],
             [
              0.6666666666666666,
              "#ed7953"
             ],
             [
              0.7777777777777778,
              "#fb9f3a"
             ],
             [
              0.8888888888888888,
              "#fdca26"
             ],
             [
              1,
              "#f0f921"
             ]
            ],
            "type": "histogram2d"
           }
          ],
          "histogram2dcontour": [
           {
            "colorbar": {
             "outlinewidth": 0,
             "ticks": ""
            },
            "colorscale": [
             [
              0,
              "#0d0887"
             ],
             [
              0.1111111111111111,
              "#46039f"
             ],
             [
              0.2222222222222222,
              "#7201a8"
             ],
             [
              0.3333333333333333,
              "#9c179e"
             ],
             [
              0.4444444444444444,
              "#bd3786"
             ],
             [
              0.5555555555555556,
              "#d8576b"
             ],
             [
              0.6666666666666666,
              "#ed7953"
             ],
             [
              0.7777777777777778,
              "#fb9f3a"
             ],
             [
              0.8888888888888888,
              "#fdca26"
             ],
             [
              1,
              "#f0f921"
             ]
            ],
            "type": "histogram2dcontour"
           }
          ],
          "mesh3d": [
           {
            "colorbar": {
             "outlinewidth": 0,
             "ticks": ""
            },
            "type": "mesh3d"
           }
          ],
          "parcoords": [
           {
            "line": {
             "colorbar": {
              "outlinewidth": 0,
              "ticks": ""
             }
            },
            "type": "parcoords"
           }
          ],
          "pie": [
           {
            "automargin": true,
            "type": "pie"
           }
          ],
          "scatter": [
           {
            "fillpattern": {
             "fillmode": "overlay",
             "size": 10,
             "solidity": 0.2
            },
            "type": "scatter"
           }
          ],
          "scatter3d": [
           {
            "line": {
             "colorbar": {
              "outlinewidth": 0,
              "ticks": ""
             }
            },
            "marker": {
             "colorbar": {
              "outlinewidth": 0,
              "ticks": ""
             }
            },
            "type": "scatter3d"
           }
          ],
          "scattercarpet": [
           {
            "marker": {
             "colorbar": {
              "outlinewidth": 0,
              "ticks": ""
             }
            },
            "type": "scattercarpet"
           }
          ],
          "scattergeo": [
           {
            "marker": {
             "colorbar": {
              "outlinewidth": 0,
              "ticks": ""
             }
            },
            "type": "scattergeo"
           }
          ],
          "scattergl": [
           {
            "marker": {
             "colorbar": {
              "outlinewidth": 0,
              "ticks": ""
             }
            },
            "type": "scattergl"
           }
          ],
          "scattermapbox": [
           {
            "marker": {
             "colorbar": {
              "outlinewidth": 0,
              "ticks": ""
             }
            },
            "type": "scattermapbox"
           }
          ],
          "scatterpolar": [
           {
            "marker": {
             "colorbar": {
              "outlinewidth": 0,
              "ticks": ""
             }
            },
            "type": "scatterpolar"
           }
          ],
          "scatterpolargl": [
           {
            "marker": {
             "colorbar": {
              "outlinewidth": 0,
              "ticks": ""
             }
            },
            "type": "scatterpolargl"
           }
          ],
          "scatterternary": [
           {
            "marker": {
             "colorbar": {
              "outlinewidth": 0,
              "ticks": ""
             }
            },
            "type": "scatterternary"
           }
          ],
          "surface": [
           {
            "colorbar": {
             "outlinewidth": 0,
             "ticks": ""
            },
            "colorscale": [
             [
              0,
              "#0d0887"
             ],
             [
              0.1111111111111111,
              "#46039f"
             ],
             [
              0.2222222222222222,
              "#7201a8"
             ],
             [
              0.3333333333333333,
              "#9c179e"
             ],
             [
              0.4444444444444444,
              "#bd3786"
             ],
             [
              0.5555555555555556,
              "#d8576b"
             ],
             [
              0.6666666666666666,
              "#ed7953"
             ],
             [
              0.7777777777777778,
              "#fb9f3a"
             ],
             [
              0.8888888888888888,
              "#fdca26"
             ],
             [
              1,
              "#f0f921"
             ]
            ],
            "type": "surface"
           }
          ],
          "table": [
           {
            "cells": {
             "fill": {
              "color": "#EBF0F8"
             },
             "line": {
              "color": "white"
             }
            },
            "header": {
             "fill": {
              "color": "#C8D4E3"
             },
             "line": {
              "color": "white"
             }
            },
            "type": "table"
           }
          ]
         },
         "layout": {
          "annotationdefaults": {
           "arrowcolor": "#2a3f5f",
           "arrowhead": 0,
           "arrowwidth": 1
          },
          "autotypenumbers": "strict",
          "coloraxis": {
           "colorbar": {
            "outlinewidth": 0,
            "ticks": ""
           }
          },
          "colorscale": {
           "diverging": [
            [
             0,
             "#8e0152"
            ],
            [
             0.1,
             "#c51b7d"
            ],
            [
             0.2,
             "#de77ae"
            ],
            [
             0.3,
             "#f1b6da"
            ],
            [
             0.4,
             "#fde0ef"
            ],
            [
             0.5,
             "#f7f7f7"
            ],
            [
             0.6,
             "#e6f5d0"
            ],
            [
             0.7,
             "#b8e186"
            ],
            [
             0.8,
             "#7fbc41"
            ],
            [
             0.9,
             "#4d9221"
            ],
            [
             1,
             "#276419"
            ]
           ],
           "sequential": [
            [
             0,
             "#0d0887"
            ],
            [
             0.1111111111111111,
             "#46039f"
            ],
            [
             0.2222222222222222,
             "#7201a8"
            ],
            [
             0.3333333333333333,
             "#9c179e"
            ],
            [
             0.4444444444444444,
             "#bd3786"
            ],
            [
             0.5555555555555556,
             "#d8576b"
            ],
            [
             0.6666666666666666,
             "#ed7953"
            ],
            [
             0.7777777777777778,
             "#fb9f3a"
            ],
            [
             0.8888888888888888,
             "#fdca26"
            ],
            [
             1,
             "#f0f921"
            ]
           ],
           "sequentialminus": [
            [
             0,
             "#0d0887"
            ],
            [
             0.1111111111111111,
             "#46039f"
            ],
            [
             0.2222222222222222,
             "#7201a8"
            ],
            [
             0.3333333333333333,
             "#9c179e"
            ],
            [
             0.4444444444444444,
             "#bd3786"
            ],
            [
             0.5555555555555556,
             "#d8576b"
            ],
            [
             0.6666666666666666,
             "#ed7953"
            ],
            [
             0.7777777777777778,
             "#fb9f3a"
            ],
            [
             0.8888888888888888,
             "#fdca26"
            ],
            [
             1,
             "#f0f921"
            ]
           ]
          },
          "colorway": [
           "#636efa",
           "#EF553B",
           "#00cc96",
           "#ab63fa",
           "#FFA15A",
           "#19d3f3",
           "#FF6692",
           "#B6E880",
           "#FF97FF",
           "#FECB52"
          ],
          "font": {
           "color": "#2a3f5f"
          },
          "geo": {
           "bgcolor": "white",
           "lakecolor": "white",
           "landcolor": "#E5ECF6",
           "showlakes": true,
           "showland": true,
           "subunitcolor": "white"
          },
          "hoverlabel": {
           "align": "left"
          },
          "hovermode": "closest",
          "mapbox": {
           "style": "light"
          },
          "paper_bgcolor": "white",
          "plot_bgcolor": "#E5ECF6",
          "polar": {
           "angularaxis": {
            "gridcolor": "white",
            "linecolor": "white",
            "ticks": ""
           },
           "bgcolor": "#E5ECF6",
           "radialaxis": {
            "gridcolor": "white",
            "linecolor": "white",
            "ticks": ""
           }
          },
          "scene": {
           "xaxis": {
            "backgroundcolor": "#E5ECF6",
            "gridcolor": "white",
            "gridwidth": 2,
            "linecolor": "white",
            "showbackground": true,
            "ticks": "",
            "zerolinecolor": "white"
           },
           "yaxis": {
            "backgroundcolor": "#E5ECF6",
            "gridcolor": "white",
            "gridwidth": 2,
            "linecolor": "white",
            "showbackground": true,
            "ticks": "",
            "zerolinecolor": "white"
           },
           "zaxis": {
            "backgroundcolor": "#E5ECF6",
            "gridcolor": "white",
            "gridwidth": 2,
            "linecolor": "white",
            "showbackground": true,
            "ticks": "",
            "zerolinecolor": "white"
           }
          },
          "shapedefaults": {
           "line": {
            "color": "#2a3f5f"
           }
          },
          "ternary": {
           "aaxis": {
            "gridcolor": "white",
            "linecolor": "white",
            "ticks": ""
           },
           "baxis": {
            "gridcolor": "white",
            "linecolor": "white",
            "ticks": ""
           },
           "bgcolor": "#E5ECF6",
           "caxis": {
            "gridcolor": "white",
            "linecolor": "white",
            "ticks": ""
           }
          },
          "title": {
           "x": 0.05
          },
          "xaxis": {
           "automargin": true,
           "gridcolor": "white",
           "linecolor": "white",
           "ticks": "",
           "title": {
            "standoff": 15
           },
           "zerolinecolor": "white",
           "zerolinewidth": 2
          },
          "yaxis": {
           "automargin": true,
           "gridcolor": "white",
           "linecolor": "white",
           "ticks": "",
           "title": {
            "standoff": 15
           },
           "zerolinecolor": "white",
           "zerolinewidth": 2
          }
         }
        },
        "title": {
         "font": {
          "color": "#4D5663"
         }
        },
        "xaxis": {
         "anchor": "y",
         "autorange": true,
         "domain": [
          0,
          0.2125
         ],
         "gridcolor": "#E1E5ED",
         "range": [
          0,
          1000
         ],
         "showgrid": false,
         "tickfont": {
          "color": "#4D5663"
         },
         "title": {
          "font": {
           "color": "#4D5663"
          },
          "text": ""
         },
         "type": "linear",
         "zerolinecolor": "#E1E5ED"
        },
        "xaxis10": {
         "anchor": "y10",
         "autorange": true,
         "domain": [
          0.2625,
          0.475
         ],
         "gridcolor": "#E1E5ED",
         "range": [
          138084561399.54614,
          4104523271688.454
         ],
         "showgrid": false,
         "tickfont": {
          "color": "#4D5663"
         },
         "title": {
          "font": {
           "color": "#4D5663"
          },
          "text": ""
         },
         "type": "linear",
         "zerolinecolor": "#E1E5ED"
        },
        "xaxis11": {
         "anchor": "y11",
         "autorange": true,
         "domain": [
          0.525,
          0.7375
         ],
         "gridcolor": "#E1E5ED",
         "range": [
          0,
          160
         ],
         "showgrid": false,
         "tickfont": {
          "color": "#4D5663"
         },
         "title": {
          "font": {
           "color": "#4D5663"
          },
          "text": ""
         },
         "type": "linear",
         "zerolinecolor": "#E1E5ED"
        },
        "xaxis12": {
         "anchor": "y12",
         "autorange": true,
         "domain": [
          0.7875,
          1
         ],
         "gridcolor": "#E1E5ED",
         "range": [
          -0.10752148710558578,
          1.3165214871055857
         ],
         "showgrid": false,
         "tickfont": {
          "color": "#4D5663"
         },
         "title": {
          "font": {
           "color": "#4D5663"
          },
          "text": ""
         },
         "type": "linear",
         "zerolinecolor": "#E1E5ED"
        },
        "xaxis13": {
         "anchor": "y13",
         "autorange": true,
         "domain": [
          0,
          0.2125
         ],
         "gridcolor": "#E1E5ED",
         "range": [
          27.883427576911203,
          1018.4265724230888
         ],
         "showgrid": false,
         "tickfont": {
          "color": "#4D5663"
         },
         "title": {
          "font": {
           "color": "#4D5663"
          },
          "text": ""
         },
         "type": "linear",
         "zerolinecolor": "#E1E5ED"
        },
        "xaxis14": {
         "anchor": "y14",
         "autorange": true,
         "domain": [
          0.2625,
          0.475
         ],
         "gridcolor": "#E1E5ED",
         "range": [
          138084561399.54614,
          4104523271688.454
         ],
         "showgrid": false,
         "tickfont": {
          "color": "#4D5663"
         },
         "title": {
          "font": {
           "color": "#4D5663"
          },
          "text": ""
         },
         "type": "linear",
         "zerolinecolor": "#E1E5ED"
        },
        "xaxis15": {
         "anchor": "y15",
         "autorange": true,
         "domain": [
          0.525,
          0.7375
         ],
         "gridcolor": "#E1E5ED",
         "range": [
          1.2150757317553467,
          159.85393214024467
         ],
         "showgrid": false,
         "tickfont": {
          "color": "#4D5663"
         },
         "title": {
          "font": {
           "color": "#4D5663"
          },
          "text": ""
         },
         "type": "linear",
         "zerolinecolor": "#E1E5ED"
        },
        "xaxis16": {
         "anchor": "y16",
         "autorange": true,
         "domain": [
          0.7875,
          1
         ],
         "gridcolor": "#E1E5ED",
         "range": [
          -0.19999999999999987,
          1.3999999999999997
         ],
         "showgrid": false,
         "tickfont": {
          "color": "#4D5663"
         },
         "title": {
          "font": {
           "color": "#4D5663"
          },
          "text": ""
         },
         "type": "linear",
         "zerolinecolor": "#E1E5ED"
        },
        "xaxis2": {
         "anchor": "y2",
         "autorange": true,
         "domain": [
          0.2625,
          0.475
         ],
         "gridcolor": "#E1E5ED",
         "range": [
          138084561399.54614,
          4104523271688.454
         ],
         "showgrid": false,
         "tickfont": {
          "color": "#4D5663"
         },
         "title": {
          "font": {
           "color": "#4D5663"
          },
          "text": ""
         },
         "type": "linear",
         "zerolinecolor": "#E1E5ED"
        },
        "xaxis3": {
         "anchor": "y3",
         "autorange": true,
         "domain": [
          0.525,
          0.7375
         ],
         "gridcolor": "#E1E5ED",
         "range": [
          1.2150757317553467,
          159.85393214024467
         ],
         "showgrid": false,
         "tickfont": {
          "color": "#4D5663"
         },
         "title": {
          "font": {
           "color": "#4D5663"
          },
          "text": ""
         },
         "type": "linear",
         "zerolinecolor": "#E1E5ED"
        },
        "xaxis4": {
         "anchor": "y4",
         "autorange": true,
         "domain": [
          0.7875,
          1
         ],
         "gridcolor": "#E1E5ED",
         "range": [
          -0.10752148710558578,
          1.3165214871055857
         ],
         "showgrid": false,
         "tickfont": {
          "color": "#4D5663"
         },
         "title": {
          "font": {
           "color": "#4D5663"
          },
          "text": ""
         },
         "type": "linear",
         "zerolinecolor": "#E1E5ED"
        },
        "xaxis5": {
         "anchor": "y5",
         "autorange": true,
         "domain": [
          0,
          0.2125
         ],
         "gridcolor": "#E1E5ED",
         "range": [
          27.883427576911203,
          1018.4265724230888
         ],
         "showgrid": false,
         "tickfont": {
          "color": "#4D5663"
         },
         "title": {
          "font": {
           "color": "#4D5663"
          },
          "text": ""
         },
         "type": "linear",
         "zerolinecolor": "#E1E5ED"
        },
        "xaxis6": {
         "anchor": "y6",
         "autorange": true,
         "domain": [
          0.2625,
          0.475
         ],
         "gridcolor": "#E1E5ED",
         "range": [
          -0.5,
          3999999999999.5
         ],
         "showgrid": false,
         "tickfont": {
          "color": "#4D5663"
         },
         "title": {
          "font": {
           "color": "#4D5663"
          },
          "text": ""
         },
         "type": "linear",
         "zerolinecolor": "#E1E5ED"
        },
        "xaxis7": {
         "anchor": "y7",
         "autorange": true,
         "domain": [
          0.525,
          0.7375
         ],
         "gridcolor": "#E1E5ED",
         "range": [
          1.2150757317553467,
          159.85393214024467
         ],
         "showgrid": false,
         "tickfont": {
          "color": "#4D5663"
         },
         "title": {
          "font": {
           "color": "#4D5663"
          },
          "text": ""
         },
         "type": "linear",
         "zerolinecolor": "#E1E5ED"
        },
        "xaxis8": {
         "anchor": "y8",
         "autorange": true,
         "domain": [
          0.7875,
          1
         ],
         "gridcolor": "#E1E5ED",
         "range": [
          -0.10752148710558578,
          1.3165214871055857
         ],
         "showgrid": false,
         "tickfont": {
          "color": "#4D5663"
         },
         "title": {
          "font": {
           "color": "#4D5663"
          },
          "text": ""
         },
         "type": "linear",
         "zerolinecolor": "#E1E5ED"
        },
        "xaxis9": {
         "anchor": "y9",
         "autorange": true,
         "domain": [
          0,
          0.2125
         ],
         "gridcolor": "#E1E5ED",
         "range": [
          27.883427576911203,
          1018.4265724230888
         ],
         "showgrid": false,
         "tickfont": {
          "color": "#4D5663"
         },
         "title": {
          "font": {
           "color": "#4D5663"
          },
          "text": ""
         },
         "type": "linear",
         "zerolinecolor": "#E1E5ED"
        },
        "yaxis": {
         "anchor": "x",
         "autorange": true,
         "domain": [
          0.8025,
          1
         ],
         "gridcolor": "#E1E5ED",
         "range": [
          0,
          6.315789473684211
         ],
         "showgrid": false,
         "tickfont": {
          "color": "#4D5663"
         },
         "title": {
          "font": {
           "color": "#4D5663"
          },
          "text": ""
         },
         "zerolinecolor": "#E1E5ED"
        },
        "yaxis10": {
         "anchor": "x10",
         "autorange": true,
         "domain": [
          0.2675,
          0.465
         ],
         "gridcolor": "#E1E5ED",
         "range": [
          -13.844973635656084,
          174.9139815076561
         ],
         "showgrid": false,
         "tickfont": {
          "color": "#4D5663"
         },
         "title": {
          "font": {
           "color": "#4D5663"
          },
          "text": ""
         },
         "type": "linear",
         "zerolinecolor": "#E1E5ED"
        },
        "yaxis11": {
         "anchor": "x11",
         "autorange": true,
         "domain": [
          0.2675,
          0.465
         ],
         "gridcolor": "#E1E5ED",
         "range": [
          0,
          5.2631578947368425
         ],
         "showgrid": false,
         "tickfont": {
          "color": "#4D5663"
         },
         "title": {
          "font": {
           "color": "#4D5663"
          },
          "text": ""
         },
         "zerolinecolor": "#E1E5ED"
        },
        "yaxis12": {
         "anchor": "x12",
         "autorange": true,
         "domain": [
          0.2675,
          0.465
         ],
         "gridcolor": "#E1E5ED",
         "range": [
          -13.844973635656084,
          174.9139815076561
         ],
         "showgrid": false,
         "tickfont": {
          "color": "#4D5663"
         },
         "title": {
          "font": {
           "color": "#4D5663"
          },
          "text": ""
         },
         "type": "linear",
         "zerolinecolor": "#E1E5ED"
        },
        "yaxis13": {
         "anchor": "x13",
         "autorange": true,
         "domain": [
          0,
          0.1975
         ],
         "gridcolor": "#E1E5ED",
         "range": [
          -0.2427100403923831,
          1.451710040392383
         ],
         "showgrid": false,
         "tickfont": {
          "color": "#4D5663"
         },
         "title": {
          "font": {
           "color": "#4D5663"
          },
          "text": ""
         },
         "type": "linear",
         "zerolinecolor": "#E1E5ED"
        },
        "yaxis14": {
         "anchor": "x14",
         "autorange": true,
         "domain": [
          0,
          0.1975
         ],
         "gridcolor": "#E1E5ED",
         "range": [
          -0.2427100403923831,
          1.451710040392383
         ],
         "showgrid": false,
         "tickfont": {
          "color": "#4D5663"
         },
         "title": {
          "font": {
           "color": "#4D5663"
          },
          "text": ""
         },
         "type": "linear",
         "zerolinecolor": "#E1E5ED"
        },
        "yaxis15": {
         "anchor": "x15",
         "autorange": true,
         "domain": [
          0,
          0.1975
         ],
         "gridcolor": "#E1E5ED",
         "range": [
          -0.2427100403923831,
          1.451710040392383
         ],
         "showgrid": false,
         "tickfont": {
          "color": "#4D5663"
         },
         "title": {
          "font": {
           "color": "#4D5663"
          },
          "text": ""
         },
         "type": "linear",
         "zerolinecolor": "#E1E5ED"
        },
        "yaxis16": {
         "anchor": "x16",
         "autorange": true,
         "domain": [
          0,
          0.1975
         ],
         "gridcolor": "#E1E5ED",
         "range": [
          0,
          15.789473684210526
         ],
         "showgrid": false,
         "tickfont": {
          "color": "#4D5663"
         },
         "title": {
          "font": {
           "color": "#4D5663"
          },
          "text": ""
         },
         "zerolinecolor": "#E1E5ED"
        },
        "yaxis2": {
         "anchor": "x2",
         "autorange": true,
         "domain": [
          0.8025,
          1
         ],
         "gridcolor": "#E1E5ED",
         "range": [
          -66.15172244662433,
          1112.4617224466244
         ],
         "showgrid": false,
         "tickfont": {
          "color": "#4D5663"
         },
         "title": {
          "font": {
           "color": "#4D5663"
          },
          "text": ""
         },
         "type": "linear",
         "zerolinecolor": "#E1E5ED"
        },
        "yaxis3": {
         "anchor": "x3",
         "autorange": true,
         "domain": [
          0.8025,
          1
         ],
         "gridcolor": "#E1E5ED",
         "range": [
          -66.15172244662433,
          1112.4617224466244
         ],
         "showgrid": false,
         "tickfont": {
          "color": "#4D5663"
         },
         "title": {
          "font": {
           "color": "#4D5663"
          },
          "text": ""
         },
         "type": "linear",
         "zerolinecolor": "#E1E5ED"
        },
        "yaxis4": {
         "anchor": "x4",
         "autorange": true,
         "domain": [
          0.8025,
          1
         ],
         "gridcolor": "#E1E5ED",
         "range": [
          -66.15172244662433,
          1112.4617224466244
         ],
         "showgrid": false,
         "tickfont": {
          "color": "#4D5663"
         },
         "title": {
          "font": {
           "color": "#4D5663"
          },
          "text": ""
         },
         "type": "linear",
         "zerolinecolor": "#E1E5ED"
        },
        "yaxis5": {
         "anchor": "x5",
         "autorange": true,
         "domain": [
          0.535,
          0.7325
         ],
         "gridcolor": "#E1E5ED",
         "range": [
          -238461034945.0708,
          4481068868033.07
         ],
         "showgrid": false,
         "tickfont": {
          "color": "#4D5663"
         },
         "title": {
          "font": {
           "color": "#4D5663"
          },
          "text": ""
         },
         "type": "linear",
         "zerolinecolor": "#E1E5ED"
        },
        "yaxis6": {
         "anchor": "x6",
         "autorange": true,
         "domain": [
          0.535,
          0.7325
         ],
         "gridcolor": "#E1E5ED",
         "range": [
          0,
          6.315789473684211
         ],
         "showgrid": false,
         "tickfont": {
          "color": "#4D5663"
         },
         "title": {
          "font": {
           "color": "#4D5663"
          },
          "text": ""
         },
         "zerolinecolor": "#E1E5ED"
        },
        "yaxis7": {
         "anchor": "x7",
         "autorange": true,
         "domain": [
          0.535,
          0.7325
         ],
         "gridcolor": "#E1E5ED",
         "range": [
          -238461034945.0708,
          4481068868033.07
         ],
         "showgrid": false,
         "tickfont": {
          "color": "#4D5663"
         },
         "title": {
          "font": {
           "color": "#4D5663"
          },
          "text": ""
         },
         "type": "linear",
         "zerolinecolor": "#E1E5ED"
        },
        "yaxis8": {
         "anchor": "x8",
         "autorange": true,
         "domain": [
          0.535,
          0.7325
         ],
         "gridcolor": "#E1E5ED",
         "range": [
          -238461034945.0708,
          4481068868033.07
         ],
         "showgrid": false,
         "tickfont": {
          "color": "#4D5663"
         },
         "title": {
          "font": {
           "color": "#4D5663"
          },
          "text": ""
         },
         "type": "linear",
         "zerolinecolor": "#E1E5ED"
        },
        "yaxis9": {
         "anchor": "x9",
         "autorange": true,
         "domain": [
          0.2675,
          0.465
         ],
         "gridcolor": "#E1E5ED",
         "range": [
          -13.844973635656084,
          174.9139815076561
         ],
         "showgrid": false,
         "tickfont": {
          "color": "#4D5663"
         },
         "title": {
          "font": {
           "color": "#4D5663"
          },
          "text": ""
         },
         "type": "linear",
         "zerolinecolor": "#E1E5ED"
        }
       }
      },
      "image/png": "[encoded data removed]",
      "text/html": [
       "<div>                            <div id=\"df8dd23b-7b33-4046-b6b9-14cf52ce16bd\" class=\"plotly-graph-div\" style=\"height:525px; width:100%;\"></div>            <script type=\"text/javascript\">                require([\"plotly\"], function(Plotly) {                    window.PLOTLYENV=window.PLOTLYENV || {};\n",
       "                    window.PLOTLYENV.BASE_URL='https://plot.ly';                                    if (document.getElementById(\"df8dd23b-7b33-4046-b6b9-14cf52ce16bd\")) {                    Plotly.newPlot(                        \"df8dd23b-7b33-4046-b6b9-14cf52ce16bd\",                        [{\"histfunc\":\"count\",\"histnorm\":\"\",\"marker\":{\"color\":\"rgba(255, 153, 51, 1.0)\",\"line\":{\"color\":\"#4D5663\",\"width\":1.3}},\"name\":\"Currentprice\",\"nbinsx\":10,\"opacity\":0.8,\"orientation\":\"v\",\"x\":[254.49,134.7,436.6,224.92,191.41,192.96,585.25,421.06,220.79,453.2,92.24,767.76,237.6,317.71,528.03,169.66,105.87,500.13,954.07,168.06],\"xaxis\":\"x\",\"yaxis\":\"y\",\"type\":\"histogram\"},{\"line\":{\"color\":\"rgba(128, 128, 128, 1.0)\",\"dash\":\"solid\",\"shape\":\"linear\",\"width\":1.3},\"marker\":{\"size\":2,\"symbol\":\"circle\"},\"mode\":\"markers\",\"name\":\"Currentprice\",\"text\":\"\",\"x\":[3846819807232,3298803056640,3246068596736,2365033807872,2351625142272,2351623045120,1477457739776,1351627833344,1031217348608,978776031232,740999888896,690458853376,668924837888,615235846144,484642324480,474532249600,465308188672,460261654528,423510736896,395788025856],\"xaxis\":\"x2\",\"y\":[254.49,134.7,436.6,224.92,191.41,192.96,585.25,421.06,220.79,453.2,92.24,767.76,237.6,317.71,528.03,169.66,105.87,500.13,954.07,168.06],\"yaxis\":\"y2\",\"type\":\"scatter\"},{\"line\":{\"color\":\"rgba(128, 128, 128, 1.0)\",\"dash\":\"solid\",\"shape\":\"linear\",\"width\":1.3},\"marker\":{\"size\":2,\"symbol\":\"circle\"},\"mode\":\"markers\",\"name\":\"Currentprice\",\"text\":\"\",\"x\":[134.66099712,61.184,136.55199744,111.583002624,123.469996032,123.469996032,79.208996864,13.244000256,22.958000128,149.547008,40.779001856,16.566500352,null,24.973000704,16.784,21.802999808,71.537999872,35.035000832,11.521999872,24.039999488],\"xaxis\":\"x3\",\"y\":[254.49,134.7,436.6,224.92,191.41,192.96,585.25,421.06,220.79,453.2,92.24,767.76,237.6,317.71,528.03,169.66,105.87,500.13,954.07,168.06],\"yaxis\":\"y3\",\"type\":\"scatter\"},{\"line\":{\"color\":\"rgba(128, 128, 128, 1.0)\",\"dash\":\"solid\",\"shape\":\"linear\",\"width\":1.3},\"marker\":{\"size\":2,\"symbol\":\"circle\"},\"mode\":\"markers\",\"name\":\"Currentprice\",\"text\":\"\",\"x\":[0.061,1.224,0.16,0.11,0.151,0.151,0.189,0.078,0.164,-0.002,0.048,0.204,0.03,0.117,0.128,0.069,-0.015,0.092,0.01,-0.006],\"xaxis\":\"x4\",\"y\":[254.49,134.7,436.6,224.92,191.41,192.96,585.25,421.06,220.79,453.2,92.24,767.76,237.6,317.71,528.03,169.66,105.87,500.13,954.07,168.06],\"yaxis\":\"y4\",\"type\":\"scatter\"},{\"line\":{\"color\":\"rgba(128, 128, 128, 1.0)\",\"dash\":\"solid\",\"shape\":\"linear\",\"width\":1.3},\"marker\":{\"size\":2,\"symbol\":\"circle\"},\"mode\":\"markers\",\"name\":\"Marketcap\",\"text\":\"\",\"x\":[254.49,134.7,436.6,224.92,191.41,192.96,585.25,421.06,220.79,453.2,92.24,767.76,237.6,317.71,528.03,169.66,105.87,500.13,954.07,168.06],\"xaxis\":\"x5\",\"y\":[3846819807232,3298803056640,3246068596736,2365033807872,2351625142272,2351623045120,1477457739776,1351627833344,1031217348608,978776031232,740999888896,690458853376,668924837888,615235846144,484642324480,474532249600,465308188672,460261654528,423510736896,395788025856],\"yaxis\":\"y5\",\"type\":\"scatter\"},{\"histfunc\":\"count\",\"histnorm\":\"\",\"marker\":{\"color\":\"rgba(55, 128, 191, 1.0)\",\"line\":{\"color\":\"#4D5663\",\"width\":1.3}},\"name\":\"Marketcap\",\"nbinsx\":10,\"opacity\":0.8,\"orientation\":\"v\",\"x\":[3846819807232,3298803056640,3246068596736,2365033807872,2351625142272,2351623045120,1477457739776,1351627833344,1031217348608,978776031232,740999888896,690458853376,668924837888,615235846144,484642324480,474532249600,465308188672,460261654528,423510736896,395788025856],\"xaxis\":\"x6\",\"yaxis\":\"y6\",\"type\":\"histogram\"},{\"line\":{\"color\":\"rgba(128, 128, 128, 1.0)\",\"dash\":\"solid\",\"shape\":\"linear\",\"width\":1.3},\"marker\":{\"size\":2,\"symbol\":\"circle\"},\"mode\":\"markers\",\"name\":\"Marketcap\",\"text\":\"\",\"x\":[134.66099712,61.184,136.55199744,111.583002624,123.469996032,123.469996032,79.208996864,13.244000256,22.958000128,149.547008,40.779001856,16.566500352,null,24.973000704,16.784,21.802999808,71.537999872,35.035000832,11.521999872,24.039999488],\"xaxis\":\"x7\",\"y\":[3846819807232,3298803056640,3246068596736,2365033807872,2351625142272,2351623045120,1477457739776,1351627833344,1031217348608,978776031232,740999888896,690458853376,668924837888,615235846144,484642324480,474532249600,465308188672,460261654528,423510736896,395788025856],\"yaxis\":\"y7\",\"type\":\"scatter\"},{\"line\":{\"color\":\"rgba(128, 128, 128, 1.0)\",\"dash\":\"solid\",\"shape\":\"linear\",\"width\":1.3},\"marker\":{\"size\":2,\"symbol\":\"circle\"},\"mode\":\"markers\",\"name\":\"Marketcap\",\"text\":\"\",\"x\":[0.061,1.224,0.16,0.11,0.151,0.151,0.189,0.078,0.164,-0.002,0.048,0.204,0.03,0.117,0.128,0.069,-0.015,0.092,0.01,-0.006],\"xaxis\":\"x8\",\"y\":[3846819807232,3298803056640,3246068596736,2365033807872,2351625142272,2351623045120,1477457739776,1351627833344,1031217348608,978776031232,740999888896,690458853376,668924837888,615235846144,484642324480,474532249600,465308188672,460261654528,423510736896,395788025856],\"yaxis\":\"y8\",\"type\":\"scatter\"},{\"line\":{\"color\":\"rgba(128, 128, 128, 1.0)\",\"dash\":\"solid\",\"shape\":\"linear\",\"width\":1.3},\"marker\":{\"size\":2,\"symbol\":\"circle\"},\"mode\":\"markers\",\"name\":\"Ebitda\",\"text\":\"\",\"x\":[254.49,134.7,436.6,224.92,191.41,192.96,585.25,421.06,220.79,453.2,92.24,767.76,237.6,317.71,528.03,169.66,105.87,500.13,954.07,168.06],\"xaxis\":\"x9\",\"y\":[134.66099712,61.184,136.55199744,111.583002624,123.469996032,123.469996032,79.208996864,13.244000256,22.958000128,149.547008,40.779001856,16.566500352,\"\",24.973000704,16.784,21.802999808,71.537999872,35.035000832,11.521999872,24.039999488],\"yaxis\":\"y9\",\"type\":\"scatter\"},{\"line\":{\"color\":\"rgba(128, 128, 128, 1.0)\",\"dash\":\"solid\",\"shape\":\"linear\",\"width\":1.3},\"marker\":{\"size\":2,\"symbol\":\"circle\"},\"mode\":\"markers\",\"name\":\"Ebitda\",\"text\":\"\",\"x\":[3846819807232,3298803056640,3246068596736,2365033807872,2351625142272,2351623045120,1477457739776,1351627833344,1031217348608,978776031232,740999888896,690458853376,668924837888,615235846144,484642324480,474532249600,465308188672,460261654528,423510736896,395788025856],\"xaxis\":\"x10\",\"y\":[134.66099712,61.184,136.55199744,111.583002624,123.469996032,123.469996032,79.208996864,13.244000256,22.958000128,149.547008,40.779001856,16.566500352,\"\",24.973000704,16.784,21.802999808,71.537999872,35.035000832,11.521999872,24.039999488],\"yaxis\":\"y10\",\"type\":\"scatter\"},{\"histfunc\":\"count\",\"histnorm\":\"\",\"marker\":{\"color\":\"rgba(50, 171, 96, 1.0)\",\"line\":{\"color\":\"#4D5663\",\"width\":1.3}},\"name\":\"Ebitda\",\"nbinsx\":10,\"opacity\":0.8,\"orientation\":\"v\",\"x\":[134.66099712,61.184,136.55199744,111.583002624,123.469996032,123.469996032,79.208996864,13.244000256,22.958000128,149.547008,40.779001856,16.566500352,null,24.973000704,16.784,21.802999808,71.537999872,35.035000832,11.521999872,24.039999488],\"xaxis\":\"x11\",\"yaxis\":\"y11\",\"type\":\"histogram\"},{\"line\":{\"color\":\"rgba(128, 128, 128, 1.0)\",\"dash\":\"solid\",\"shape\":\"linear\",\"width\":1.3},\"marker\":{\"size\":2,\"symbol\":\"circle\"},\"mode\":\"markers\",\"name\":\"Ebitda\",\"text\":\"\",\"x\":[0.061,1.224,0.16,0.11,0.151,0.151,0.189,0.078,0.164,-0.002,0.048,0.204,0.03,0.117,0.128,0.069,-0.015,0.092,0.01,-0.006],\"xaxis\":\"x12\",\"y\":[134.66099712,61.184,136.55199744,111.583002624,123.469996032,123.469996032,79.208996864,13.244000256,22.958000128,149.547008,40.779001856,16.566500352,\"\",24.973000704,16.784,21.802999808,71.537999872,35.035000832,11.521999872,24.039999488],\"yaxis\":\"y12\",\"type\":\"scatter\"},{\"line\":{\"color\":\"rgba(128, 128, 128, 1.0)\",\"dash\":\"solid\",\"shape\":\"linear\",\"width\":1.3},\"marker\":{\"size\":2,\"symbol\":\"circle\"},\"mode\":\"markers\",\"name\":\"Revenuegrowth\",\"text\":\"\",\"x\":[254.49,134.7,436.6,224.92,191.41,192.96,585.25,421.06,220.79,453.2,92.24,767.76,237.6,317.71,528.03,169.66,105.87,500.13,954.07,168.06],\"xaxis\":\"x13\",\"y\":[0.061,1.224,0.16,0.11,0.151,0.151,0.189,0.078,0.164,-0.002,0.048,0.204,0.03,0.117,0.128,0.069,-0.015,0.092,0.01,-0.006],\"yaxis\":\"y13\",\"type\":\"scatter\"},{\"line\":{\"color\":\"rgba(128, 128, 128, 1.0)\",\"dash\":\"solid\",\"shape\":\"linear\",\"width\":1.3},\"marker\":{\"size\":2,\"symbol\":\"circle\"},\"mode\":\"markers\",\"name\":\"Revenuegrowth\",\"text\":\"\",\"x\":[3846819807232,3298803056640,3246068596736,2365033807872,2351625142272,2351623045120,1477457739776,1351627833344,1031217348608,978776031232,740999888896,690458853376,668924837888,615235846144,484642324480,474532249600,465308188672,460261654528,423510736896,395788025856],\"xaxis\":\"x14\",\"y\":[0.061,1.224,0.16,0.11,0.151,0.151,0.189,0.078,0.164,-0.002,0.048,0.204,0.03,0.117,0.128,0.069,-0.015,0.092,0.01,-0.006],\"yaxis\":\"y14\",\"type\":\"scatter\"},{\"line\":{\"color\":\"rgba(128, 128, 128, 1.0)\",\"dash\":\"solid\",\"shape\":\"linear\",\"width\":1.3},\"marker\":{\"size\":2,\"symbol\":\"circle\"},\"mode\":\"markers\",\"name\":\"Revenuegrowth\",\"text\":\"\",\"x\":[134.66099712,61.184,136.55199744,111.583002624,123.469996032,123.469996032,79.208996864,13.244000256,22.958000128,149.547008,40.779001856,16.566500352,null,24.973000704,16.784,21.802999808,71.537999872,35.035000832,11.521999872,24.039999488],\"xaxis\":\"x15\",\"y\":[0.061,1.224,0.16,0.11,0.151,0.151,0.189,0.078,0.164,-0.002,0.048,0.204,0.03,0.117,0.128,0.069,-0.015,0.092,0.01,-0.006],\"yaxis\":\"y15\",\"type\":\"scatter\"},{\"histfunc\":\"count\",\"histnorm\":\"\",\"marker\":{\"color\":\"rgba(128, 0, 128, 1.0)\",\"line\":{\"color\":\"#4D5663\",\"width\":1.3}},\"name\":\"Revenuegrowth\",\"nbinsx\":10,\"opacity\":0.8,\"orientation\":\"v\",\"x\":[0.061,1.224,0.16,0.11,0.151,0.151,0.189,0.078,0.164,-0.002,0.048,0.204,0.03,0.117,0.128,0.069,-0.015,0.092,0.01,-0.006],\"xaxis\":\"x16\",\"yaxis\":\"y16\",\"type\":\"histogram\"}],                        {\"bargap\":0.02,\"legend\":{\"bgcolor\":\"#F5F6F9\",\"font\":{\"color\":\"#4D5663\"}},\"paper_bgcolor\":\"#F5F6F9\",\"plot_bgcolor\":\"#F5F6F9\",\"showlegend\":false,\"template\":{\"data\":{\"barpolar\":[{\"marker\":{\"line\":{\"color\":\"#E5ECF6\",\"width\":0.5},\"pattern\":{\"fillmode\":\"overlay\",\"size\":10,\"solidity\":0.2}},\"type\":\"barpolar\"}],\"bar\":[{\"error_x\":{\"color\":\"#2a3f5f\"},\"error_y\":{\"color\":\"#2a3f5f\"},\"marker\":{\"line\":{\"color\":\"#E5ECF6\",\"width\":0.5},\"pattern\":{\"fillmode\":\"overlay\",\"size\":10,\"solidity\":0.2}},\"type\":\"bar\"}],\"carpet\":[{\"aaxis\":{\"endlinecolor\":\"#2a3f5f\",\"gridcolor\":\"white\",\"linecolor\":\"white\",\"minorgridcolor\":\"white\",\"startlinecolor\":\"#2a3f5f\"},\"baxis\":{\"endlinecolor\":\"#2a3f5f\",\"gridcolor\":\"white\",\"linecolor\":\"white\",\"minorgridcolor\":\"white\",\"startlinecolor\":\"#2a3f5f\"},\"type\":\"carpet\"}],\"choropleth\":[{\"colorbar\":{\"outlinewidth\":0,\"ticks\":\"\"},\"type\":\"choropleth\"}],\"contourcarpet\":[{\"colorbar\":{\"outlinewidth\":0,\"ticks\":\"\"},\"type\":\"contourcarpet\"}],\"contour\":[{\"colorbar\":{\"outlinewidth\":0,\"ticks\":\"\"},\"colorscale\":[[0.0,\"#0d0887\"],[0.1111111111111111,\"#46039f\"],[0.2222222222222222,\"#7201a8\"],[0.3333333333333333,\"#9c179e\"],[0.4444444444444444,\"#bd3786\"],[0.5555555555555556,\"#d8576b\"],[0.6666666666666666,\"#ed7953\"],[0.7777777777777778,\"#fb9f3a\"],[0.8888888888888888,\"#fdca26\"],[1.0,\"#f0f921\"]],\"type\":\"contour\"}],\"heatmapgl\":[{\"colorbar\":{\"outlinewidth\":0,\"ticks\":\"\"},\"colorscale\":[[0.0,\"#0d0887\"],[0.1111111111111111,\"#46039f\"],[0.2222222222222222,\"#7201a8\"],[0.3333333333333333,\"#9c179e\"],[0.4444444444444444,\"#bd3786\"],[0.5555555555555556,\"#d8576b\"],[0.6666666666666666,\"#ed7953\"],[0.7777777777777778,\"#fb9f3a\"],[0.8888888888888888,\"#fdca26\"],[1.0,\"#f0f921\"]],\"type\":\"heatmapgl\"}],\"heatmap\":[{\"colorbar\":{\"outlinewidth\":0,\"ticks\":\"\"},\"colorscale\":[[0.0,\"#0d0887\"],[0.1111111111111111,\"#46039f\"],[0.2222222222222222,\"#7201a8\"],[0.3333333333333333,\"#9c179e\"],[0.4444444444444444,\"#bd3786\"],[0.5555555555555556,\"#d8576b\"],[0.6666666666666666,\"#ed7953\"],[0.7777777777777778,\"#fb9f3a\"],[0.8888888888888888,\"#fdca26\"],[1.0,\"#f0f921\"]],\"type\":\"heatmap\"}],\"histogram2dcontour\":[{\"colorbar\":{\"outlinewidth\":0,\"ticks\":\"\"},\"colorscale\":[[0.0,\"#0d0887\"],[0.1111111111111111,\"#46039f\"],[0.2222222222222222,\"#7201a8\"],[0.3333333333333333,\"#9c179e\"],[0.4444444444444444,\"#bd3786\"],[0.5555555555555556,\"#d8576b\"],[0.6666666666666666,\"#ed7953\"],[0.7777777777777778,\"#fb9f3a\"],[0.8888888888888888,\"#fdca26\"],[1.0,\"#f0f921\"]],\"type\":\"histogram2dcontour\"}],\"histogram2d\":[{\"colorbar\":{\"outlinewidth\":0,\"ticks\":\"\"},\"colorscale\":[[0.0,\"#0d0887\"],[0.1111111111111111,\"#46039f\"],[0.2222222222222222,\"#7201a8\"],[0.3333333333333333,\"#9c179e\"],[0.4444444444444444,\"#bd3786\"],[0.5555555555555556,\"#d8576b\"],[0.6666666666666666,\"#ed7953\"],[0.7777777777777778,\"#fb9f3a\"],[0.8888888888888888,\"#fdca26\"],[1.0,\"#f0f921\"]],\"type\":\"histogram2d\"}],\"histogram\":[{\"marker\":{\"pattern\":{\"fillmode\":\"overlay\",\"size\":10,\"solidity\":0.2}},\"type\":\"histogram\"}],\"mesh3d\":[{\"colorbar\":{\"outlinewidth\":0,\"ticks\":\"\"},\"type\":\"mesh3d\"}],\"parcoords\":[{\"line\":{\"colorbar\":{\"outlinewidth\":0,\"ticks\":\"\"}},\"type\":\"parcoords\"}],\"pie\":[{\"automargin\":true,\"type\":\"pie\"}],\"scatter3d\":[{\"line\":{\"colorbar\":{\"outlinewidth\":0,\"ticks\":\"\"}},\"marker\":{\"colorbar\":{\"outlinewidth\":0,\"ticks\":\"\"}},\"type\":\"scatter3d\"}],\"scattercarpet\":[{\"marker\":{\"colorbar\":{\"outlinewidth\":0,\"ticks\":\"\"}},\"type\":\"scattercarpet\"}],\"scattergeo\":[{\"marker\":{\"colorbar\":{\"outlinewidth\":0,\"ticks\":\"\"}},\"type\":\"scattergeo\"}],\"scattergl\":[{\"marker\":{\"colorbar\":{\"outlinewidth\":0,\"ticks\":\"\"}},\"type\":\"scattergl\"}],\"scattermapbox\":[{\"marker\":{\"colorbar\":{\"outlinewidth\":0,\"ticks\":\"\"}},\"type\":\"scattermapbox\"}],\"scatterpolargl\":[{\"marker\":{\"colorbar\":{\"outlinewidth\":0,\"ticks\":\"\"}},\"type\":\"scatterpolargl\"}],\"scatterpolar\":[{\"marker\":{\"colorbar\":{\"outlinewidth\":0,\"ticks\":\"\"}},\"type\":\"scatterpolar\"}],\"scatter\":[{\"fillpattern\":{\"fillmode\":\"overlay\",\"size\":10,\"solidity\":0.2},\"type\":\"scatter\"}],\"scatterternary\":[{\"marker\":{\"colorbar\":{\"outlinewidth\":0,\"ticks\":\"\"}},\"type\":\"scatterternary\"}],\"surface\":[{\"colorbar\":{\"outlinewidth\":0,\"ticks\":\"\"},\"colorscale\":[[0.0,\"#0d0887\"],[0.1111111111111111,\"#46039f\"],[0.2222222222222222,\"#7201a8\"],[0.3333333333333333,\"#9c179e\"],[0.4444444444444444,\"#bd3786\"],[0.5555555555555556,\"#d8576b\"],[0.6666666666666666,\"#ed7953\"],[0.7777777777777778,\"#fb9f3a\"],[0.8888888888888888,\"#fdca26\"],[1.0,\"#f0f921\"]],\"type\":\"surface\"}],\"table\":[{\"cells\":{\"fill\":{\"color\":\"#EBF0F8\"},\"line\":{\"color\":\"white\"}},\"header\":{\"fill\":{\"color\":\"#C8D4E3\"},\"line\":{\"color\":\"white\"}},\"type\":\"table\"}]},\"layout\":{\"annotationdefaults\":{\"arrowcolor\":\"#2a3f5f\",\"arrowhead\":0,\"arrowwidth\":1},\"autotypenumbers\":\"strict\",\"coloraxis\":{\"colorbar\":{\"outlinewidth\":0,\"ticks\":\"\"}},\"colorscale\":{\"diverging\":[[0,\"#8e0152\"],[0.1,\"#c51b7d\"],[0.2,\"#de77ae\"],[0.3,\"#f1b6da\"],[0.4,\"#fde0ef\"],[0.5,\"#f7f7f7\"],[0.6,\"#e6f5d0\"],[0.7,\"#b8e186\"],[0.8,\"#7fbc41\"],[0.9,\"#4d9221\"],[1,\"#276419\"]],\"sequential\":[[0.0,\"#0d0887\"],[0.1111111111111111,\"#46039f\"],[0.2222222222222222,\"#7201a8\"],[0.3333333333333333,\"#9c179e\"],[0.4444444444444444,\"#bd3786\"],[0.5555555555555556,\"#d8576b\"],[0.6666666666666666,\"#ed7953\"],[0.7777777777777778,\"#fb9f3a\"],[0.8888888888888888,\"#fdca26\"],[1.0,\"#f0f921\"]],\"sequentialminus\":[[0.0,\"#0d0887\"],[0.1111111111111111,\"#46039f\"],[0.2222222222222222,\"#7201a8\"],[0.3333333333333333,\"#9c179e\"],[0.4444444444444444,\"#bd3786\"],[0.5555555555555556,\"#d8576b\"],[0.6666666666666666,\"#ed7953\"],[0.7777777777777778,\"#fb9f3a\"],[0.8888888888888888,\"#fdca26\"],[1.0,\"#f0f921\"]]},\"colorway\":[\"#636efa\",\"#EF553B\",\"#00cc96\",\"#ab63fa\",\"#FFA15A\",\"#19d3f3\",\"#FF6692\",\"#B6E880\",\"#FF97FF\",\"#FECB52\"],\"font\":{\"color\":\"#2a3f5f\"},\"geo\":{\"bgcolor\":\"white\",\"lakecolor\":\"white\",\"landcolor\":\"#E5ECF6\",\"showlakes\":true,\"showland\":true,\"subunitcolor\":\"white\"},\"hoverlabel\":{\"align\":\"left\"},\"hovermode\":\"closest\",\"mapbox\":{\"style\":\"light\"},\"paper_bgcolor\":\"white\",\"plot_bgcolor\":\"#E5ECF6\",\"polar\":{\"angularaxis\":{\"gridcolor\":\"white\",\"linecolor\":\"white\",\"ticks\":\"\"},\"bgcolor\":\"#E5ECF6\",\"radialaxis\":{\"gridcolor\":\"white\",\"linecolor\":\"white\",\"ticks\":\"\"}},\"scene\":{\"xaxis\":{\"backgroundcolor\":\"#E5ECF6\",\"gridcolor\":\"white\",\"gridwidth\":2,\"linecolor\":\"white\",\"showbackground\":true,\"ticks\":\"\",\"zerolinecolor\":\"white\"},\"yaxis\":{\"backgroundcolor\":\"#E5ECF6\",\"gridcolor\":\"white\",\"gridwidth\":2,\"linecolor\":\"white\",\"showbackground\":true,\"ticks\":\"\",\"zerolinecolor\":\"white\"},\"zaxis\":{\"backgroundcolor\":\"#E5ECF6\",\"gridcolor\":\"white\",\"gridwidth\":2,\"linecolor\":\"white\",\"showbackground\":true,\"ticks\":\"\",\"zerolinecolor\":\"white\"}},\"shapedefaults\":{\"line\":{\"color\":\"#2a3f5f\"}},\"ternary\":{\"aaxis\":{\"gridcolor\":\"white\",\"linecolor\":\"white\",\"ticks\":\"\"},\"baxis\":{\"gridcolor\":\"white\",\"linecolor\":\"white\",\"ticks\":\"\"},\"bgcolor\":\"#E5ECF6\",\"caxis\":{\"gridcolor\":\"white\",\"linecolor\":\"white\",\"ticks\":\"\"}},\"title\":{\"x\":0.05},\"xaxis\":{\"automargin\":true,\"gridcolor\":\"white\",\"linecolor\":\"white\",\"ticks\":\"\",\"title\":{\"standoff\":15},\"zerolinecolor\":\"white\",\"zerolinewidth\":2},\"yaxis\":{\"automargin\":true,\"gridcolor\":\"white\",\"linecolor\":\"white\",\"ticks\":\"\",\"title\":{\"standoff\":15},\"zerolinecolor\":\"white\",\"zerolinewidth\":2}}},\"title\":{\"font\":{\"color\":\"#4D5663\"}},\"xaxis\":{\"anchor\":\"y\",\"domain\":[0.0,0.2125],\"gridcolor\":\"#E1E5ED\",\"showgrid\":false,\"tickfont\":{\"color\":\"#4D5663\"},\"title\":{\"font\":{\"color\":\"#4D5663\"},\"text\":\"\"},\"zerolinecolor\":\"#E1E5ED\"},\"yaxis\":{\"anchor\":\"x\",\"domain\":[0.8025,1.0],\"gridcolor\":\"#E1E5ED\",\"showgrid\":false,\"tickfont\":{\"color\":\"#4D5663\"},\"title\":{\"font\":{\"color\":\"#4D5663\"},\"text\":\"\"},\"zerolinecolor\":\"#E1E5ED\"},\"xaxis2\":{\"anchor\":\"y2\",\"domain\":[0.2625,0.475],\"gridcolor\":\"#E1E5ED\",\"showgrid\":false,\"tickfont\":{\"color\":\"#4D5663\"},\"title\":{\"font\":{\"color\":\"#4D5663\"},\"text\":\"\"},\"zerolinecolor\":\"#E1E5ED\"},\"yaxis2\":{\"anchor\":\"x2\",\"domain\":[0.8025,1.0],\"gridcolor\":\"#E1E5ED\",\"showgrid\":false,\"tickfont\":{\"color\":\"#4D5663\"},\"title\":{\"font\":{\"color\":\"#4D5663\"},\"text\":\"\"},\"zerolinecolor\":\"#E1E5ED\"},\"xaxis3\":{\"anchor\":\"y3\",\"domain\":[0.525,0.7375],\"gridcolor\":\"#E1E5ED\",\"showgrid\":false,\"tickfont\":{\"color\":\"#4D5663\"},\"title\":{\"font\":{\"color\":\"#4D5663\"},\"text\":\"\"},\"zerolinecolor\":\"#E1E5ED\"},\"yaxis3\":{\"anchor\":\"x3\",\"domain\":[0.8025,1.0],\"gridcolor\":\"#E1E5ED\",\"showgrid\":false,\"tickfont\":{\"color\":\"#4D5663\"},\"title\":{\"font\":{\"color\":\"#4D5663\"},\"text\":\"\"},\"zerolinecolor\":\"#E1E5ED\"},\"xaxis4\":{\"anchor\":\"y4\",\"domain\":[0.7875,1.0],\"gridcolor\":\"#E1E5ED\",\"showgrid\":false,\"tickfont\":{\"color\":\"#4D5663\"},\"title\":{\"font\":{\"color\":\"#4D5663\"},\"text\":\"\"},\"zerolinecolor\":\"#E1E5ED\"},\"yaxis4\":{\"anchor\":\"x4\",\"domain\":[0.8025,1.0],\"gridcolor\":\"#E1E5ED\",\"showgrid\":false,\"tickfont\":{\"color\":\"#4D5663\"},\"title\":{\"font\":{\"color\":\"#4D5663\"},\"text\":\"\"},\"zerolinecolor\":\"#E1E5ED\"},\"xaxis5\":{\"anchor\":\"y5\",\"domain\":[0.0,0.2125],\"gridcolor\":\"#E1E5ED\",\"showgrid\":false,\"tickfont\":{\"color\":\"#4D5663\"},\"title\":{\"font\":{\"color\":\"#4D5663\"},\"text\":\"\"},\"zerolinecolor\":\"#E1E5ED\"},\"yaxis5\":{\"anchor\":\"x5\",\"domain\":[0.535,0.7325],\"gridcolor\":\"#E1E5ED\",\"showgrid\":false,\"tickfont\":{\"color\":\"#4D5663\"},\"title\":{\"font\":{\"color\":\"#4D5663\"},\"text\":\"\"},\"zerolinecolor\":\"#E1E5ED\"},\"xaxis6\":{\"anchor\":\"y6\",\"domain\":[0.2625,0.475],\"gridcolor\":\"#E1E5ED\",\"showgrid\":false,\"tickfont\":{\"color\":\"#4D5663\"},\"title\":{\"font\":{\"color\":\"#4D5663\"},\"text\":\"\"},\"zerolinecolor\":\"#E1E5ED\"},\"yaxis6\":{\"anchor\":\"x6\",\"domain\":[0.535,0.7325],\"gridcolor\":\"#E1E5ED\",\"showgrid\":false,\"tickfont\":{\"color\":\"#4D5663\"},\"title\":{\"font\":{\"color\":\"#4D5663\"},\"text\":\"\"},\"zerolinecolor\":\"#E1E5ED\"},\"xaxis7\":{\"anchor\":\"y7\",\"domain\":[0.525,0.7375],\"gridcolor\":\"#E1E5ED\",\"showgrid\":false,\"tickfont\":{\"color\":\"#4D5663\"},\"title\":{\"font\":{\"color\":\"#4D5663\"},\"text\":\"\"},\"zerolinecolor\":\"#E1E5ED\"},\"yaxis7\":{\"anchor\":\"x7\",\"domain\":[0.535,0.7325],\"gridcolor\":\"#E1E5ED\",\"showgrid\":false,\"tickfont\":{\"color\":\"#4D5663\"},\"title\":{\"font\":{\"color\":\"#4D5663\"},\"text\":\"\"},\"zerolinecolor\":\"#E1E5ED\"},\"xaxis8\":{\"anchor\":\"y8\",\"domain\":[0.7875,1.0],\"gridcolor\":\"#E1E5ED\",\"showgrid\":false,\"tickfont\":{\"color\":\"#4D5663\"},\"title\":{\"font\":{\"color\":\"#4D5663\"},\"text\":\"\"},\"zerolinecolor\":\"#E1E5ED\"},\"yaxis8\":{\"anchor\":\"x8\",\"domain\":[0.535,0.7325],\"gridcolor\":\"#E1E5ED\",\"showgrid\":false,\"tickfont\":{\"color\":\"#4D5663\"},\"title\":{\"font\":{\"color\":\"#4D5663\"},\"text\":\"\"},\"zerolinecolor\":\"#E1E5ED\"},\"xaxis9\":{\"anchor\":\"y9\",\"domain\":[0.0,0.2125],\"gridcolor\":\"#E1E5ED\",\"showgrid\":false,\"tickfont\":{\"color\":\"#4D5663\"},\"title\":{\"font\":{\"color\":\"#4D5663\"},\"text\":\"\"},\"zerolinecolor\":\"#E1E5ED\"},\"yaxis9\":{\"anchor\":\"x9\",\"domain\":[0.2675,0.465],\"gridcolor\":\"#E1E5ED\",\"showgrid\":false,\"tickfont\":{\"color\":\"#4D5663\"},\"title\":{\"font\":{\"color\":\"#4D5663\"},\"text\":\"\"},\"zerolinecolor\":\"#E1E5ED\"},\"xaxis10\":{\"anchor\":\"y10\",\"domain\":[0.2625,0.475],\"gridcolor\":\"#E1E5ED\",\"showgrid\":false,\"tickfont\":{\"color\":\"#4D5663\"},\"title\":{\"font\":{\"color\":\"#4D5663\"},\"text\":\"\"},\"zerolinecolor\":\"#E1E5ED\"},\"yaxis10\":{\"anchor\":\"x10\",\"domain\":[0.2675,0.465],\"gridcolor\":\"#E1E5ED\",\"showgrid\":false,\"tickfont\":{\"color\":\"#4D5663\"},\"title\":{\"font\":{\"color\":\"#4D5663\"},\"text\":\"\"},\"zerolinecolor\":\"#E1E5ED\"},\"xaxis11\":{\"anchor\":\"y11\",\"domain\":[0.525,0.7375],\"gridcolor\":\"#E1E5ED\",\"showgrid\":false,\"tickfont\":{\"color\":\"#4D5663\"},\"title\":{\"font\":{\"color\":\"#4D5663\"},\"text\":\"\"},\"zerolinecolor\":\"#E1E5ED\"},\"yaxis11\":{\"anchor\":\"x11\",\"domain\":[0.2675,0.465],\"gridcolor\":\"#E1E5ED\",\"showgrid\":false,\"tickfont\":{\"color\":\"#4D5663\"},\"title\":{\"font\":{\"color\":\"#4D5663\"},\"text\":\"\"},\"zerolinecolor\":\"#E1E5ED\"},\"xaxis12\":{\"anchor\":\"y12\",\"domain\":[0.7875,1.0],\"gridcolor\":\"#E1E5ED\",\"showgrid\":false,\"tickfont\":{\"color\":\"#4D5663\"},\"title\":{\"font\":{\"color\":\"#4D5663\"},\"text\":\"\"},\"zerolinecolor\":\"#E1E5ED\"},\"yaxis12\":{\"anchor\":\"x12\",\"domain\":[0.2675,0.465],\"gridcolor\":\"#E1E5ED\",\"showgrid\":false,\"tickfont\":{\"color\":\"#4D5663\"},\"title\":{\"font\":{\"color\":\"#4D5663\"},\"text\":\"\"},\"zerolinecolor\":\"#E1E5ED\"},\"xaxis13\":{\"anchor\":\"y13\",\"domain\":[0.0,0.2125],\"gridcolor\":\"#E1E5ED\",\"showgrid\":false,\"tickfont\":{\"color\":\"#4D5663\"},\"title\":{\"font\":{\"color\":\"#4D5663\"},\"text\":\"\"},\"zerolinecolor\":\"#E1E5ED\"},\"yaxis13\":{\"anchor\":\"x13\",\"domain\":[0.0,0.1975],\"gridcolor\":\"#E1E5ED\",\"showgrid\":false,\"tickfont\":{\"color\":\"#4D5663\"},\"title\":{\"font\":{\"color\":\"#4D5663\"},\"text\":\"\"},\"zerolinecolor\":\"#E1E5ED\"},\"xaxis14\":{\"anchor\":\"y14\",\"domain\":[0.2625,0.475],\"gridcolor\":\"#E1E5ED\",\"showgrid\":false,\"tickfont\":{\"color\":\"#4D5663\"},\"title\":{\"font\":{\"color\":\"#4D5663\"},\"text\":\"\"},\"zerolinecolor\":\"#E1E5ED\"},\"yaxis14\":{\"anchor\":\"x14\",\"domain\":[0.0,0.1975],\"gridcolor\":\"#E1E5ED\",\"showgrid\":false,\"tickfont\":{\"color\":\"#4D5663\"},\"title\":{\"font\":{\"color\":\"#4D5663\"},\"text\":\"\"},\"zerolinecolor\":\"#E1E5ED\"},\"xaxis15\":{\"anchor\":\"y15\",\"domain\":[0.525,0.7375],\"gridcolor\":\"#E1E5ED\",\"showgrid\":false,\"tickfont\":{\"color\":\"#4D5663\"},\"title\":{\"font\":{\"color\":\"#4D5663\"},\"text\":\"\"},\"zerolinecolor\":\"#E1E5ED\"},\"yaxis15\":{\"anchor\":\"x15\",\"domain\":[0.0,0.1975],\"gridcolor\":\"#E1E5ED\",\"showgrid\":false,\"tickfont\":{\"color\":\"#4D5663\"},\"title\":{\"font\":{\"color\":\"#4D5663\"},\"text\":\"\"},\"zerolinecolor\":\"#E1E5ED\"},\"xaxis16\":{\"anchor\":\"y16\",\"domain\":[0.7875,1.0],\"gridcolor\":\"#E1E5ED\",\"showgrid\":false,\"tickfont\":{\"color\":\"#4D5663\"},\"title\":{\"font\":{\"color\":\"#4D5663\"},\"text\":\"\"},\"zerolinecolor\":\"#E1E5ED\"},\"yaxis16\":{\"anchor\":\"x16\",\"domain\":[0.0,0.1975],\"gridcolor\":\"#E1E5ED\",\"showgrid\":false,\"tickfont\":{\"color\":\"#4D5663\"},\"title\":{\"font\":{\"color\":\"#4D5663\"},\"text\":\"\"},\"zerolinecolor\":\"#E1E5ED\"}},                        {\"showLink\": true, \"linkText\": \"Export to plot.ly\", \"plotlyServerURL\": \"https://plot.ly\", \"responsive\": true}                    ).then(function(){\n",
       "                            \n",
       "var gd = document.getElementById('df8dd23b-7b33-4046-b6b9-14cf52ce16bd');\n",
       "var x = new MutationObserver(function (mutations, observer) {{\n",
       "        var display = window.getComputedStyle(gd).display;\n",
       "        if (!display || display === 'none') {{\n",
       "            console.log([gd, 'removed!']);\n",
       "            Plotly.purge(gd);\n",
       "            observer.disconnect();\n",
       "        }}\n",
       "}});\n",
       "\n",
       "// Listen for the removal of the full notebook cells\n",
       "var notebookContainer = gd.closest('#notebook-container');\n",
       "if (notebookContainer) {{\n",
       "    x.observe(notebookContainer, {childList: true});\n",
       "}}\n",
       "\n",
       "// Listen for the clearing of the current output cell\n",
       "var outputEl = gd.closest('.output');\n",
       "if (outputEl) {{\n",
       "    x.observe(outputEl, {childList: true});\n",
       "}}\n",
       "\n",
       "                        })                };                });            </script>        </div>"
      ]
     },
     "metadata": {},
     "output_type": "display_data"
    }
   ],
   "source": [
    "import cufflinks as cf #1\n",
    "from plotly.offline import download_plotlyjs, init_notebook_mode, plot, iplot #2\n",
    "init_notebook_mode(connected=True) #3\n",
    "cf.go_offline() #4\n",
    "df_matrix.set_index('Symbol', inplace=True)\n",
    "df_matrix.scatter_matrix()\n"
   ]
  },
  {
   "cell_type": "code",
   "execution_count": 88,
   "id": "11293db5-69a7-4f22-8058-b7010cb638c3",
   "metadata": {},
   "outputs": [
    {
     "data": {
      "image/png": "[encoded data removed]",
      "text/plain": [
       "<Figure size 1200x1200 with 16 Axes>"
      ]
     },
     "metadata": {},
     "output_type": "display_data"
    }
   ],
   "source": [
    "from pandas.plotting import scatter_matrix\n",
    "import matplotlib.pyplot as plt\n",
    "\n",
    "# Make sure df_matrix only has numeric columns (or select a few if needed)\n",
    "numeric_df = df_matrix.select_dtypes(include='number')\n",
    "\n",
    "# Create scatter matrix with larger figure size and alpha transparency\n",
    "scatter_matrix(\n",
    "    numeric_df,\n",
    "    figsize=(12, 12),     # larger size\n",
    "    diagonal='hist',      # can also use 'kde' for kernel density\n",
    "    alpha=0.6,            # transparency\n",
    "    marker='o',\n",
    "    hist_kwds={'bins': 20, 'edgecolor': 'black'}\n",
    ")\n",
    "\n",
    "plt.suptitle(\"Scatter Matrix of Numeric Features\", y=1.02)\n",
    "plt.tight_layout()\n",
    "plt.show()\n"
   ]
  },
  {
   "cell_type": "code",
   "execution_count": 136,
   "id": "703e5657-cb5f-443f-affe-3a8eb738595d",
   "metadata": {},
   "outputs": [
    {
     "data": {
      "text/html": [
       "<div>\n",
       "<style scoped>\n",
       "    .dataframe tbody tr th:only-of-type {\n",
       "        vertical-align: middle;\n",
       "    }\n",
       "\n",
       "    .dataframe tbody tr th {\n",
       "        vertical-align: top;\n",
       "    }\n",
       "\n",
       "    .dataframe thead th {\n",
       "        text-align: right;\n",
       "    }\n",
       "</style>\n",
       "<table border=\"1\" class=\"dataframe\">\n",
       "  <thead>\n",
       "    <tr style=\"text-align: right;\">\n",
       "      <th></th>\n",
       "      <th>Currentprice</th>\n",
       "      <th>Marketcap</th>\n",
       "      <th>Ebitda</th>\n",
       "      <th>Revenuegrowth</th>\n",
       "      <th>Fulltimeemployees</th>\n",
       "      <th>Weight</th>\n",
       "    </tr>\n",
       "  </thead>\n",
       "  <tbody>\n",
       "    <tr>\n",
       "      <th>Currentprice</th>\n",
       "      <td>1.00</td>\n",
       "      <td>0.05</td>\n",
       "      <td>0.02</td>\n",
       "      <td>0.04</td>\n",
       "      <td>-0.01</td>\n",
       "      <td>0.05</td>\n",
       "    </tr>\n",
       "    <tr>\n",
       "      <th>Marketcap</th>\n",
       "      <td>0.05</td>\n",
       "      <td>1.00</td>\n",
       "      <td>0.85</td>\n",
       "      <td>0.16</td>\n",
       "      <td>0.34</td>\n",
       "      <td>1.00</td>\n",
       "    </tr>\n",
       "    <tr>\n",
       "      <th>Ebitda</th>\n",
       "      <td>0.02</td>\n",
       "      <td>0.85</td>\n",
       "      <td>1.00</td>\n",
       "      <td>0.07</td>\n",
       "      <td>0.40</td>\n",
       "      <td>0.85</td>\n",
       "    </tr>\n",
       "    <tr>\n",
       "      <th>Revenuegrowth</th>\n",
       "      <td>0.04</td>\n",
       "      <td>0.16</td>\n",
       "      <td>0.07</td>\n",
       "      <td>1.00</td>\n",
       "      <td>-0.01</td>\n",
       "      <td>0.16</td>\n",
       "    </tr>\n",
       "    <tr>\n",
       "      <th>Fulltimeemployees</th>\n",
       "      <td>-0.01</td>\n",
       "      <td>0.34</td>\n",
       "      <td>0.40</td>\n",
       "      <td>-0.01</td>\n",
       "      <td>1.00</td>\n",
       "      <td>0.34</td>\n",
       "    </tr>\n",
       "    <tr>\n",
       "      <th>Weight</th>\n",
       "      <td>0.05</td>\n",
       "      <td>1.00</td>\n",
       "      <td>0.85</td>\n",
       "      <td>0.16</td>\n",
       "      <td>0.34</td>\n",
       "      <td>1.00</td>\n",
       "    </tr>\n",
       "  </tbody>\n",
       "</table>\n",
       "</div>"
      ],
      "text/plain": [
       "                   Currentprice  Marketcap  Ebitda  Revenuegrowth  \\\n",
       "Currentprice               1.00       0.05    0.02           0.04   \n",
       "Marketcap                  0.05       1.00    0.85           0.16   \n",
       "Ebitda                     0.02       0.85    1.00           0.07   \n",
       "Revenuegrowth              0.04       0.16    0.07           1.00   \n",
       "Fulltimeemployees         -0.01       0.34    0.40          -0.01   \n",
       "Weight                     0.05       1.00    0.85           0.16   \n",
       "\n",
       "                   Fulltimeemployees  Weight  \n",
       "Currentprice                   -0.01    0.05  \n",
       "Marketcap                       0.34    1.00  \n",
       "Ebitda                          0.40    0.85  \n",
       "Revenuegrowth                  -0.01    0.16  \n",
       "Fulltimeemployees               1.00    0.34  \n",
       "Weight                          0.34    1.00  "
      ]
     },
     "execution_count": 136,
     "metadata": {},
     "output_type": "execute_result"
    }
   ],
   "source": [
    "corr = df.corr(numeric_only=True).round(2)\n",
    "corr"
   ]
  },
  {
   "cell_type": "code",
   "execution_count": 138,
   "id": "6bba99f6-bb1d-46b1-bc93-78e32b667bf1",
   "metadata": {},
   "outputs": [
    {
     "data": {
      "image/png": "[encoded data removed]",
      "text/plain": [
       "<Figure size 640x480 with 2 Axes>"
      ]
     },
     "metadata": {},
     "output_type": "display_data"
    }
   ],
   "source": [
    "sns.heatmap(corr, vmin =-1, vmax = 1, center = 0, cmap = 'vlag')\n",
    "plt.show()"
   ]
  },
  {
   "cell_type": "code",
   "execution_count": 140,
   "id": "117c8a6b-7aef-486d-9ccb-e54da5c73b8d",
   "metadata": {},
   "outputs": [
    {
     "data": {
      "text/plain": [
       "array([[ True,  True,  True,  True,  True,  True],\n",
       "       [False,  True,  True,  True,  True,  True],\n",
       "       [False, False,  True,  True,  True,  True],\n",
       "       [False, False, False,  True,  True,  True],\n",
       "       [False, False, False, False,  True,  True],\n",
       "       [False, False, False, False, False,  True]])"
      ]
     },
     "execution_count": 140,
     "metadata": {},
     "output_type": "execute_result"
    }
   ],
   "source": [
    "#Use a mask to reduce the redundancy of data\n",
    "mask = np.triu(np.ones_like(corr, dtype = bool))\n",
    "mask"
   ]
  },
  {
   "cell_type": "code",
   "execution_count": 142,
   "id": "5adbe5d2-3246-40f3-af50-ce161750310b",
   "metadata": {},
   "outputs": [
    {
     "data": {
      "image/png": "[encoded data removed]",
      "text/plain": [
       "<Figure size 640x480 with 2 Axes>"
      ]
     },
     "metadata": {},
     "output_type": "display_data"
    }
   ],
   "source": [
    "#\n",
    "sns.heatmap(corr, vmin =-1, vmax = 1, center = 0, cmap = 'coolwarm',mask = mask,annot = True)\n",
    "plt.show()"
   ]
  },
  {
   "cell_type": "code",
   "execution_count": 144,
   "id": "07fa4216-7058-4ded-8e36-7112750f3615",
   "metadata": {},
   "outputs": [
    {
     "data": {
      "text/html": [
       "<div>\n",
       "<style scoped>\n",
       "    .dataframe tbody tr th:only-of-type {\n",
       "        vertical-align: middle;\n",
       "    }\n",
       "\n",
       "    .dataframe tbody tr th {\n",
       "        vertical-align: top;\n",
       "    }\n",
       "\n",
       "    .dataframe thead th {\n",
       "        text-align: right;\n",
       "    }\n",
       "</style>\n",
       "<table border=\"1\" class=\"dataframe\">\n",
       "  <thead>\n",
       "    <tr style=\"text-align: right;\">\n",
       "      <th>Exchange</th>\n",
       "      <th>BTS</th>\n",
       "      <th>NGM</th>\n",
       "      <th>NMS</th>\n",
       "      <th>NYQ</th>\n",
       "    </tr>\n",
       "    <tr>\n",
       "      <th>Sector</th>\n",
       "      <th></th>\n",
       "      <th></th>\n",
       "      <th></th>\n",
       "      <th></th>\n",
       "    </tr>\n",
       "  </thead>\n",
       "  <tbody>\n",
       "    <tr>\n",
       "      <th>Basic Materials</th>\n",
       "      <td>NaN</td>\n",
       "      <td>NaN</td>\n",
       "      <td>1.098259e+11</td>\n",
       "      <td>3.224506e+10</td>\n",
       "    </tr>\n",
       "    <tr>\n",
       "      <th>Communication Services</th>\n",
       "      <td>NaN</td>\n",
       "      <td>NaN</td>\n",
       "      <td>4.506764e+11</td>\n",
       "      <td>9.887072e+10</td>\n",
       "    </tr>\n",
       "    <tr>\n",
       "      <th>Consumer Cyclical</th>\n",
       "      <td>NaN</td>\n",
       "      <td>NaN</td>\n",
       "      <td>2.617652e+11</td>\n",
       "      <td>5.058800e+10</td>\n",
       "    </tr>\n",
       "    <tr>\n",
       "      <th>Consumer Defensive</th>\n",
       "      <td>NaN</td>\n",
       "      <td>NaN</td>\n",
       "      <td>1.089650e+11</td>\n",
       "      <td>8.214201e+10</td>\n",
       "    </tr>\n",
       "    <tr>\n",
       "      <th>Energy</th>\n",
       "      <td>NaN</td>\n",
       "      <td>NaN</td>\n",
       "      <td>3.097405e+10</td>\n",
       "      <td>7.924998e+10</td>\n",
       "    </tr>\n",
       "    <tr>\n",
       "      <th>Financial Services</th>\n",
       "      <td>2.005888e+10</td>\n",
       "      <td>NaN</td>\n",
       "      <td>3.486491e+10</td>\n",
       "      <td>1.251860e+11</td>\n",
       "    </tr>\n",
       "    <tr>\n",
       "      <th>Healthcare</th>\n",
       "      <td>NaN</td>\n",
       "      <td>NaN</td>\n",
       "      <td>4.667844e+10</td>\n",
       "      <td>1.000823e+11</td>\n",
       "    </tr>\n",
       "    <tr>\n",
       "      <th>Industrials</th>\n",
       "      <td>NaN</td>\n",
       "      <td>NaN</td>\n",
       "      <td>4.658942e+10</td>\n",
       "      <td>5.557768e+10</td>\n",
       "    </tr>\n",
       "    <tr>\n",
       "      <th>Real Estate</th>\n",
       "      <td>NaN</td>\n",
       "      <td>NaN</td>\n",
       "      <td>3.340261e+10</td>\n",
       "      <td>3.517215e+10</td>\n",
       "    </tr>\n",
       "    <tr>\n",
       "      <th>Technology</th>\n",
       "      <td>NaN</td>\n",
       "      <td>9.653395e+09</td>\n",
       "      <td>2.979369e+11</td>\n",
       "      <td>8.370168e+10</td>\n",
       "    </tr>\n",
       "    <tr>\n",
       "      <th>Utilities</th>\n",
       "      <td>NaN</td>\n",
       "      <td>NaN</td>\n",
       "      <td>3.759274e+10</td>\n",
       "      <td>3.968513e+10</td>\n",
       "    </tr>\n",
       "  </tbody>\n",
       "</table>\n",
       "</div>"
      ],
      "text/plain": [
       "Exchange                         BTS           NGM           NMS           NYQ\n",
       "Sector                                                                        \n",
       "Basic Materials                  NaN           NaN  1.098259e+11  3.224506e+10\n",
       "Communication Services           NaN           NaN  4.506764e+11  9.887072e+10\n",
       "Consumer Cyclical                NaN           NaN  2.617652e+11  5.058800e+10\n",
       "Consumer Defensive               NaN           NaN  1.089650e+11  8.214201e+10\n",
       "Energy                           NaN           NaN  3.097405e+10  7.924998e+10\n",
       "Financial Services      2.005888e+10           NaN  3.486491e+10  1.251860e+11\n",
       "Healthcare                       NaN           NaN  4.667844e+10  1.000823e+11\n",
       "Industrials                      NaN           NaN  4.658942e+10  5.557768e+10\n",
       "Real Estate                      NaN           NaN  3.340261e+10  3.517215e+10\n",
       "Technology                       NaN  9.653395e+09  2.979369e+11  8.370168e+10\n",
       "Utilities                        NaN           NaN  3.759274e+10  3.968513e+10"
      ]
     },
     "execution_count": 144,
     "metadata": {},
     "output_type": "execute_result"
    }
   ],
   "source": [
    "\n",
    "#Cluster maps use hierarchical clustering. It performs the clustering based on the similarity of the rows and columns.\n",
    "# we want to get  into a matrix form\n",
    "# we want to convert one of those columns to be the row name-actual index\n",
    "# we want Sector to be the index, columns to be the Exchange\n",
    "# we  specify Marketcap as values\n",
    "# we are going to use pivot_table method\n",
    "df_cluster = df.pivot_table(index='Sector', columns='Exchange', values='Marketcap')\n",
    "df_cluster\n"
   ]
  },
  {
   "cell_type": "code",
   "execution_count": 146,
   "id": "1c133927-b2b2-4e68-b461-d2a553c1940b",
   "metadata": {},
   "outputs": [
    {
     "data": {
      "image/png": "[encoded data removed]",
      "text/plain": [
       "<Figure size 1000x1000 with 4 Axes>"
      ]
     },
     "metadata": {},
     "output_type": "display_data"
    }
   ],
   "source": [
    "df_cluster.fillna(0, inplace = True)\n",
    "sns.clustermap(df_cluster, cmap ='plasma')\n",
    "plt.show()"
   ]
  },
  {
   "cell_type": "code",
   "execution_count": null,
   "id": "3e97275f-5aab-4add-8b21-7651d77ba149",
   "metadata": {},
   "outputs": [],
   "source": []
  }
 ],
 "metadata": {
  "kernelspec": {
   "display_name": "Python [conda env:base] *",
   "language": "python",
   "name": "conda-base-py"
  },
  "language_info": {
   "codemirror_mode": {
    "name": "ipython",
    "version": 3
   },
   "file_extension": ".py",
   "mimetype": "text/x-python",
   "name": "python",
   "nbconvert_exporter": "python",
   "pygments_lexer": "ipython3",
   "version": "3.12.7"
  }
 },
 "nbformat": 4,
 "nbformat_minor": 5
}
